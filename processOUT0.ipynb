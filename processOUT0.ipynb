{
 "cells": [
  {
   "cell_type": "code",
   "execution_count": 30,
   "metadata": {
    "collapsed": true
   },
   "outputs": [],
   "source": [
    "import numpy as np\n",
    "from datetime import date"
   ]
  },
  {
   "cell_type": "code",
   "execution_count": 35,
   "metadata": {},
   "outputs": [
    {
     "name": "stdout",
     "output_type": "stream",
     "text": [
      "Done\n"
     ]
    }
   ],
   "source": [
    "fin = open(\"data/OUT0_FiveRing150buffer\", 'r')\n",
    "outdir = \"data/\"\n",
    "cnt_dr = 0\n",
    "for f in fin.readlines():\n",
    "    cnt_dr+=1\n",
    "    if (cnt_dr > ): break\n",
    "    driver = f.split(\"  \")\n",
    "    driverid = driver[0]\n",
    "    fout = open(outdir+driver[0],\"w+\")\n",
    "    #print(\"processing driver \"+str(driver[0])+\"...\")\n",
    "    data = np.empty(shape=[0, 5])\n",
    "    driverdata = driver[1].split(\"|\")\n",
    "    for line in driverdata:\n",
    "        spt = line.split(\",\")\n",
    "        itime = str.rsplit(spt[3])[1]\n",
    "        itime = str.rsplit(itime, \":\")\n",
    "        itime = [int(t) for t in itime]\n",
    "        timegroup = int((itime[0]*60 + itime[1])/30)\n",
    "            \n",
    "        idate = str.rsplit(spt[3])[0]\n",
    "        idate = str.rsplit(idate, \"-\")\n",
    "        idate = [int(d) for d in idate]\n",
    "        day = date(idate[0], idate[1], idate[2]).isoweekday() # monday = 0, sunday = 6\n",
    "            \n",
    "        data = np.append(data, [[float(spt[0]), float(spt[1]), timegroup, day, long(spt[2])]], axis=0)\n",
    "        \n",
    "    data = data[np.lexsort(data.T)]\n",
    "    fout.write(\"long, lat, timegroup_30m, day, unix70ms\\n\")\n",
    "    for i in range(len(data)):\n",
    "        fout.write('%f, %f, %d, %d, %d\\n' % \\\n",
    "        (data[i][0], data[i][1], data[i][2], data[i][3], data[i][4]))\n",
    "    fout.close()\n",
    "\n",
    "print \"Done\""
   ]
  }
 ],
 "metadata": {
  "kernelspec": {
   "display_name": "Python 2",
   "language": "python",
   "name": "python2"
  },
  "language_info": {
   "codemirror_mode": {
    "name": "ipython",
    "version": 2
   },
   "file_extension": ".py",
   "mimetype": "text/x-python",
   "name": "python",
   "nbconvert_exporter": "python",
   "pygments_lexer": "ipython2",
   "version": "2.7.13"
  }
 },
 "nbformat": 4,
 "nbformat_minor": 2
}

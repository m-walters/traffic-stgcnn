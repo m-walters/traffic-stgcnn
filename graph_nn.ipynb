{
 "cells": [
  {
   "cell_type": "code",
   "execution_count": 2,
   "metadata": {},
   "outputs": [],
   "source": [
    "from __future__ import absolute_import\n",
    "from __future__ import division\n",
    "from __future__ import print_function\n",
    "\n",
    "from graph_nets import blocks\n",
    "from graph_nets import graphs\n",
    "from graph_nets import modules\n",
    "from graph_nets import utils_np\n",
    "from graph_nets import utils_tf\n",
    "\n",
    "import matplotlib.pyplot as plt\n",
    "import networkx as nx\n",
    "import numpy as np\n",
    "import sonnet as snt\n",
    "import tensorflow as tf\n",
    "\n",
    "import csv\n",
    "%matplotlib inline"
   ]
  },
  {
   "cell_type": "code",
   "execution_count": 9,
   "metadata": {},
   "outputs": [
    {
     "name": "stdout",
     "output_type": "stream",
     "text": [
      "[['116.3894407', '39.9062721'], ['116.3930703', '39.906394'], ['116.3970962', '39.9065222'], ['116.3898158', '39.8987502'], ['116.3934609', '39.8988716'], ['116.3855622', '39.8989751'], ['116.3779918', '39.8987474'], ['116.3766593', '39.9058516'], ['116.4004073', '39.9066074'], ['116.4117218', '39.9069468']]\n"
     ]
    }
   ],
   "source": [
    "roadnodes = []\n",
    "with open(\"./hwy_pts.csv\", newline='') as hwyfile:\n",
    "    reader = csv.reader(hwyfile)\n",
    "    next(reader, None)\n",
    "    for l in reader:\n",
    "        roadnodes.append([l[0],l[1]])\n",
    "        \n",
    "print(roadnodes[:10])\n",
    "roadnodes = np.asarray(roadnodes)"
   ]
  },
  {
   "cell_type": "code",
   "execution_count": 10,
   "metadata": {},
   "outputs": [
    {
     "data": {
      "text/plain": [
       "(5998, 2)"
      ]
     },
     "execution_count": 10,
     "metadata": {},
     "output_type": "execute_result"
    }
   ],
   "source": [
    "roadnodes.shape"
   ]
  },
  {
   "cell_type": "code",
   "execution_count": null,
   "metadata": {
    "collapsed": true
   },
   "outputs": [],
   "source": [
    "def dist_from(ref,rs):\n",
    "    # ref is 1x2 ndarray\n",
    "    # rs is list of vectors to compare, nx2\n",
    "    return np.linalg.norm((ref-rs),axis=1)\n",
    "\n",
    "def generate_edges(nodes, nbrdist, n_nbr=5):\n",
    "    # calculate distances\n",
    "    nodes2 = nodes.copy()\n",
    "    n_node = len(nodes)\n",
    "    z = np.zeros((n_node,1))\n",
    "    nodes2 = np.append(nodes2,z,axis=1)\n",
    "    \n",
    "    nnbr_ft = 2\n",
    "        \n",
    "    for i,node in enumerate(nodes):\n",
    "        cent = np.asarray([node[0],node[1]])\n",
    "        dists = dist_from(cent,nodes2[:,:2])\n",
    "        nodes2[:,-1] = dists\n",
    "        nodes2 = nodes2[nodes2[:,-1].argsort()]\n",
    "        \n",
    "        nbrs = np.copy(block2[:n_nbr])\n"
   ]
  },
  {
   "cell_type": "code",
   "execution_count": 2,
   "metadata": {
    "collapsed": true
   },
   "outputs": [],
   "source": [
    "# Global features for graph 0.\n",
    "globals_0 = [1., 2., 3.]\n",
    "\n",
    "# Node features for graph 0.\n",
    "nodes_0 = [[10., 20., 30.],  # Node 0\n",
    "           [11., 21., 31.],  # Node 1\n",
    "           [12., 22., 32.],  # Node 2\n",
    "           [13., 23., 33.],  # Node 3\n",
    "           [14., 24., 34.]]  # Node 4\n",
    "\n",
    "# Edge features for graph 0.\n",
    "edges_0 = [[100., 200.],  # Edge 0\n",
    "           [101., 201.],  # Edge 1\n",
    "           [102., 202.],  # Edge 2\n",
    "           [103., 203.],  # Edge 3\n",
    "           [104., 204.],  # Edge 4\n",
    "           [105., 205.]]  # Edge 5\n",
    "\n",
    "# The sender and receiver nodes associated with each edge for graph 0.\n",
    "senders_0 = [0,  # Index of the sender node for edge 0\n",
    "             1,  # Index of the sender node for edge 1\n",
    "             1,  # Index of the sender node for edge 2\n",
    "             2,  # Index of the sender node for edge 3\n",
    "             2,  # Index of the sender node for edge 4\n",
    "             3]  # Index of the sender node for edge 5\n",
    "receivers_0 = [1,  # Index of the receiver node for edge 0\n",
    "               2,  # Index of the receiver node for edge 1\n",
    "               3,  # Index of the receiver node for edge 2\n",
    "               0,  # Index of the receiver node for edge 3\n",
    "               3,  # Index of the receiver node for edge 4\n",
    "               4]  # Index of the receiver node for edge 5\n",
    "\n",
    "# Global features for graph 1.\n",
    "globals_1 = [1001., 1002., 1003.]\n",
    "\n",
    "# Node features for graph 1.\n",
    "nodes_1 = [[1010., 1020., 1030.],  # Node 0\n",
    "           [1011., 1021., 1031.]]  # Node 1\n",
    "\n",
    "# Edge features for graph 1.\n",
    "edges_1 = [[1100., 1200.],  # Edge 0\n",
    "           [1101., 1201.],  # Edge 1\n",
    "           [1102., 1202.],  # Edge 2\n",
    "           [1103., 1203.]]  # Edge 3\n",
    "\n",
    "# The sender and receiver nodes associated with each edge for graph 1.\n",
    "senders_1 = [0,  # Index of the sender node for edge 0\n",
    "             0,  # Index of the sender node for edge 1\n",
    "             1,  # Index of the sender node for edge 2\n",
    "             1]  # Index of the sender node for edge 3\n",
    "receivers_1 = [0,  # Index of the receiver node for edge 0\n",
    "               1,  # Index of the receiver node for edge 1\n",
    "               0,  # Index of the receiver node for edge 2\n",
    "               0]  # Index of the receiver node for edge 3\n",
    "\n",
    "data_dict_0 = {\n",
    "    \"globals\": globals_0,\n",
    "    \"nodes\": nodes_0,\n",
    "    \"edges\": edges_0,\n",
    "    \"senders\": senders_0,\n",
    "    \"receivers\": receivers_0\n",
    "}\n",
    "\n",
    "data_dict_1 = {\n",
    "    \"globals\": globals_1,\n",
    "    \"nodes\": nodes_1,\n",
    "    \"edges\": edges_1,\n",
    "    \"senders\": senders_1,\n",
    "    \"receivers\": receivers_1\n",
    "}"
   ]
  },
  {
   "cell_type": "code",
   "execution_count": 3,
   "metadata": {
    "collapsed": true
   },
   "outputs": [],
   "source": [
    "data_dict_list = [data_dict_0, data_dict_1]\n",
    "graphs_tuple = utils_np.data_dicts_to_graphs_tuple(data_dict_list)"
   ]
  },
  {
   "cell_type": "code",
   "execution_count": 4,
   "metadata": {},
   "outputs": [
    {
     "data": {
      "image/png": "[encoded data removed]",
      "text/plain": [
       "<Figure size 432x216 with 2 Axes>"
      ]
     },
     "metadata": {},
     "output_type": "display_data"
    }
   ],
   "source": [
    "graphs_nx = utils_np.graphs_tuple_to_networkxs(graphs_tuple)\n",
    "_, axs = plt.subplots(ncols=2, figsize=(6, 3))\n",
    "for iax, (graph_nx, ax) in enumerate(zip(graphs_nx, axs)):\n",
    "  nx.draw(graph_nx, ax=ax)\n",
    "  ax.set_title(\"Graph {}\".format(iax))"
   ]
  },
  {
   "cell_type": "markdown",
   "metadata": {},
   "source": [
    "You can also print out the data contained in a `GraphsTuple` by running the cell below."
   ]
  },
  {
   "cell_type": "code",
   "execution_count": 5,
   "metadata": {},
   "outputs": [
    {
     "name": "stdout",
     "output_type": "stream",
     "text": [
      "Shapes of `GraphsTuple`'s fields:\n",
      "GraphsTuple(nodes=(7, 3), edges=(10, 2), receivers=(10,), senders=(10,), globals=(2, 3), n_node=(2,), n_edge=(2,))\n",
      "\n",
      "Data contained in `GraphsTuple`'s fields:\n",
      "globals:\n",
      "[[1.000e+00 2.000e+00 3.000e+00]\n",
      " [1.001e+03 1.002e+03 1.003e+03]]\n",
      "nodes:\n",
      "[[  10.   20.   30.]\n",
      " [  11.   21.   31.]\n",
      " [  12.   22.   32.]\n",
      " [  13.   23.   33.]\n",
      " [  14.   24.   34.]\n",
      " [1010. 1020. 1030.]\n",
      " [1011. 1021. 1031.]]\n",
      "edges:\n",
      "[[ 100.  200.]\n",
      " [ 101.  201.]\n",
      " [ 102.  202.]\n",
      " [ 103.  203.]\n",
      " [ 104.  204.]\n",
      " [ 105.  205.]\n",
      " [1100. 1200.]\n",
      " [1101. 1201.]\n",
      " [1102. 1202.]\n",
      " [1103. 1203.]]\n",
      "senders:\n",
      "[0 1 1 2 2 3 5 5 6 6]\n",
      "receivers:\n",
      "[1 2 3 0 3 4 5 6 5 5]\n",
      "n_node:\n",
      "[5 2]\n",
      "n_edge:\n",
      "[6 4]\n"
     ]
    }
   ],
   "source": [
    "def print_graphs_tuple(graphs_tuple):\n",
    "  print(\"Shapes of `GraphsTuple`'s fields:\")\n",
    "  print(graphs_tuple.map(lambda x: x if x is None else x.shape, fields=graphs.ALL_FIELDS))\n",
    "  print(\"\\nData contained in `GraphsTuple`'s fields:\")\n",
    "  print(\"globals:\\n{}\".format(graphs_tuple.globals))\n",
    "  print(\"nodes:\\n{}\".format(graphs_tuple.nodes))\n",
    "  print(\"edges:\\n{}\".format(graphs_tuple.edges))\n",
    "  print(\"senders:\\n{}\".format(graphs_tuple.senders))\n",
    "  print(\"receivers:\\n{}\".format(graphs_tuple.receivers))\n",
    "  print(\"n_node:\\n{}\".format(graphs_tuple.n_node))\n",
    "  print(\"n_edge:\\n{}\".format(graphs_tuple.n_edge))\n",
    "\n",
    "print_graphs_tuple(graphs_tuple)"
   ]
  },
  {
   "cell_type": "code",
   "execution_count": 7,
   "metadata": {
    "collapsed": true
   },
   "outputs": [],
   "source": [
    "recovered_data_dict_list = utils_np.graphs_tuple_to_data_dicts(graphs_tuple)"
   ]
  },
  {
   "cell_type": "markdown",
   "metadata": {},
   "source": [
    "[link text](https://)## Ways to represent different data sources with a graph\n",
    "\n",
    "As mentioned above, some graph properties are optional, and the following two cells show two instances of how this can be used."
   ]
  },
  {
   "cell_type": "code",
   "execution_count": 9,
   "metadata": {
    "collapsed": true
   },
   "outputs": [],
   "source": [
    "# Number of nodes\n",
    "n_node = 3\n",
    "\n",
    "# Three edges connecting the nodes in a cycle\n",
    "senders = [0, 1, 2]  # Indices of nodes sending the edges\n",
    "receivers = [1, 2, 0]  # Indices of nodes receiving the edges\n",
    "\n",
    "data_dict = {\n",
    "    \"n_node\": n_node,\n",
    "    \"senders\": senders,\n",
    "    \"receivers\": receivers,\n",
    "}\n",
    "graphs_tuple = utils_np.data_dicts_to_graphs_tuple([data_dict])"
   ]
  },
  {
   "cell_type": "code",
   "execution_count": null,
   "metadata": {
    "collapsed": true
   },
   "outputs": [],
   "source": []
  }
 ],
 "metadata": {
  "kernelspec": {
   "display_name": "Python 3",
   "language": "python",
   "name": "python3"
  },
  "language_info": {
   "codemirror_mode": {
    "name": "ipython",
    "version": 3
   },
   "file_extension": ".py",
   "mimetype": "text/x-python",
   "name": "python",
   "nbconvert_exporter": "python",
   "pygments_lexer": "ipython3",
   "version": "3.5.2"
  }
 },
 "nbformat": 4,
 "nbformat_minor": 2
}

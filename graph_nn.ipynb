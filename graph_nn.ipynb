{
 "cells": [
  {
   "cell_type": "code",
   "execution_count": 26,
   "metadata": {},
   "outputs": [],
   "source": [
    "from __future__ import absolute_import\n",
    "from __future__ import division\n",
    "from __future__ import print_function\n",
    "\n",
    "from graph_nets import blocks\n",
    "from graph_nets import graphs\n",
    "from graph_nets import modules\n",
    "from graph_nets import utils_np\n",
    "from graph_nets import utils_tf\n",
    "\n",
    "import matplotlib.pyplot as plt\n",
    "import networkx as nx\n",
    "import numpy as np\n",
    "import sonnet as snt\n",
    "import tensorflow as tf\n",
    "from matplotlib.patches import Circle, Rectangle\n",
    "import graphtools as gt\n",
    "from importlib import reload\n",
    "\n",
    "import csv\n",
    "%matplotlib notebook"
   ]
  },
  {
   "cell_type": "code",
   "execution_count": 29,
   "metadata": {},
   "outputs": [
    {
     "name": "stdout",
     "output_type": "stream",
     "text": [
      "{'coords': [116.3894407, 39.9062721], 'edgerefs': [725, 1, 882, 1897]}\n"
     ]
    }
   ],
   "source": [
    "nodedict = gt.generate_node_dict()\n",
    "print(nodedict[0])"
   ]
  },
  {
   "cell_type": "code",
   "execution_count": 27,
   "metadata": {},
   "outputs": [
    {
     "data": {
      "text/plain": [
       "<module 'graphtools' from '/home/michael/msc/summer17/traffic/traffic-stgcnn/graphtools.py'>"
      ]
     },
     "execution_count": 27,
     "metadata": {},
     "output_type": "execute_result"
    }
   ],
   "source": [
    "reload(gt)"
   ]
  },
  {
   "cell_type": "code",
   "execution_count": null,
   "metadata": {
    "collapsed": true
   },
   "outputs": [],
   "source": [
    "idxlist = np.arange(0,500)\n",
    "vplot = gt.viewer(nodedict=nodedict,figsize=(10,6),idxlist=idxlist)\n",
    "vplot.connect()"
   ]
  },
  {
   "cell_type": "code",
   "execution_count": null,
   "metadata": {
    "collapsed": true,
    "scrolled": false
   },
   "outputs": [],
   "source": [
    "# figsize(width,height), (20,20) is good\n",
    "gplot = gt.graphplot(nodedict,figsize=(10,6),idxlist=idxlist)\n",
    "gplot.drawgraph()"
   ]
  },
  {
   "cell_type": "code",
   "execution_count": null,
   "metadata": {
    "collapsed": true
   },
   "outputs": [],
   "source": [
    "# Global features for graph 0.\n",
    "globals_0 = [1., 2., 3.]\n",
    "\n",
    "# Node features for graph 0.\n",
    "nodes_0 = [[10., 20., 30.],  # Node 0\n",
    "           [11., 21., 31.],  # Node 1\n",
    "           [12., 22., 32.],  # Node 2\n",
    "           [13., 23., 33.],  # Node 3\n",
    "           [14., 24., 34.]]  # Node 4\n",
    "\n",
    "# Edge features for graph 0.\n",
    "edges_0 = [[100., 200.],  # Edge 0\n",
    "           [101., 201.],  # Edge 1\n",
    "           [102., 202.],  # Edge 2\n",
    "           [103., 203.],  # Edge 3\n",
    "           [104., 204.],  # Edge 4\n",
    "           [105., 205.]]  # Edge 5\n",
    "\n",
    "# The sender and receiver nodes associated with each edge for graph 0.\n",
    "senders_0 = [0,  # Index of the sender node for edge 0\n",
    "             1,  # Index of the sender node for edge 1\n",
    "             1,  # Index of the sender node for edge 2\n",
    "             2,  # Index of the sender node for edge 3\n",
    "             2,  # Index of the sender node for edge 4\n",
    "             3]  # Index of the sender node for edge 5\n",
    "receivers_0 = [1,  # Index of the receiver node for edge 0\n",
    "               2,  # Index of the receiver node for edge 1\n",
    "               3,  # Index of the receiver node for edge 2\n",
    "               0,  # Index of the receiver node for edge 3\n",
    "               3,  # Index of the receiver node for edge 4\n",
    "               4]  # Index of the receiver node for edge 5\n",
    "\n",
    "# Global features for graph 1.\n",
    "globals_1 = [1001., 1002., 1003.]\n",
    "\n",
    "# Node features for graph 1.\n",
    "nodes_1 = [[1010., 1020., 1030.],  # Node 0\n",
    "           [1011., 1021., 1031.]]  # Node 1\n",
    "\n",
    "# Edge features for graph 1.\n",
    "edges_1 = [[1100., 1200.],  # Edge 0\n",
    "           [1101., 1201.],  # Edge 1\n",
    "           [1102., 1202.],  # Edge 2\n",
    "           [1103., 1203.]]  # Edge 3\n",
    "\n",
    "# The sender and receiver nodes associated with each edge for graph 1.\n",
    "senders_1 = [0,  # Index of the sender node for edge 0\n",
    "             0,  # Index of the sender node for edge 1\n",
    "             1,  # Index of the sender node for edge 2\n",
    "             1]  # Index of the sender node for edge 3\n",
    "receivers_1 = [0,  # Index of the receiver node for edge 0\n",
    "               1,  # Index of the receiver node for edge 1\n",
    "               0,  # Index of the receiver node for edge 2\n",
    "               0]  # Index of the receiver node for edge 3\n",
    "\n",
    "data_dict_0 = {\n",
    "    \"globals\": globals_0,\n",
    "    \"nodes\": nodes_0,\n",
    "    \"edges\": edges_0,\n",
    "    \"senders\": senders_0,\n",
    "    \"receivers\": receivers_0\n",
    "}\n",
    "\n",
    "data_dict_1 = {\n",
    "    \"globals\": globals_1,\n",
    "    \"nodes\": nodes_1,\n",
    "    \"edges\": edges_1,\n",
    "    \"senders\": senders_1,\n",
    "    \"receivers\": receivers_1\n",
    "}"
   ]
  },
  {
   "cell_type": "code",
   "execution_count": null,
   "metadata": {
    "collapsed": true
   },
   "outputs": [],
   "source": [
    "data_dict_list = [data_dict_0, data_dict_1]\n",
    "graphs_tuple = utils_np.data_dicts_to_graphs_tuple(data_dict_list)"
   ]
  },
  {
   "cell_type": "code",
   "execution_count": null,
   "metadata": {
    "collapsed": true
   },
   "outputs": [],
   "source": [
    "graphs_nx = utils_np.graphs_tuple_to_networkxs(graphs_tuple)\n",
    "_, axs = plt.subplots(ncols=2, figsize=(6, 3))\n",
    "for iax, (graph_nx, ax) in enumerate(zip(graphs_nx, axs)):\n",
    "  nx.draw(graph_nx, ax=ax)\n",
    "  ax.set_title(\"Graph {}\".format(iax))"
   ]
  },
  {
   "cell_type": "markdown",
   "metadata": {},
   "source": [
    "You can also print out the data contained in a `GraphsTuple` by running the cell below."
   ]
  },
  {
   "cell_type": "code",
   "execution_count": null,
   "metadata": {
    "collapsed": true
   },
   "outputs": [],
   "source": [
    "def print_graphs_tuple(graphs_tuple):\n",
    "  print(\"Shapes of `GraphsTuple`'s fields:\")\n",
    "  print(graphs_tuple.map(lambda x: x if x is None else x.shape, fields=graphs.ALL_FIELDS))\n",
    "  print(\"\\nData contained in `GraphsTuple`'s fields:\")\n",
    "  print(\"globals:\\n{}\".format(graphs_tuple.globals))\n",
    "  print(\"nodes:\\n{}\".format(graphs_tuple.nodes))\n",
    "  print(\"edges:\\n{}\".format(graphs_tuple.edges))\n",
    "  print(\"senders:\\n{}\".format(graphs_tuple.senders))\n",
    "  print(\"receivers:\\n{}\".format(graphs_tuple.receivers))\n",
    "  print(\"n_node:\\n{}\".format(graphs_tuple.n_node))\n",
    "  print(\"n_edge:\\n{}\".format(graphs_tuple.n_edge))\n",
    "\n",
    "print_graphs_tuple(graphs_tuple)"
   ]
  },
  {
   "cell_type": "code",
   "execution_count": null,
   "metadata": {
    "collapsed": true
   },
   "outputs": [],
   "source": [
    "recovered_data_dict_list = utils_np.graphs_tuple_to_data_dicts(graphs_tuple)"
   ]
  },
  {
   "cell_type": "markdown",
   "metadata": {},
   "source": [
    "[link text](https://)## Ways to represent different data sources with a graph\n",
    "\n",
    "As mentioned above, some graph properties are optional, and the following two cells show two instances of how this can be used."
   ]
  },
  {
   "cell_type": "code",
   "execution_count": null,
   "metadata": {
    "collapsed": true
   },
   "outputs": [],
   "source": [
    "# Number of nodes\n",
    "n_node = 3\n",
    "\n",
    "# Three edges connecting the nodes in a cycle\n",
    "senders = [0, 1, 2]  # Indices of nodes sending the edges\n",
    "receivers = [1, 2, 0]  # Indices of nodes receiving the edges\n",
    "\n",
    "data_dict = {\n",
    "    \"n_node\": n_node,\n",
    "    \"senders\": senders,\n",
    "    \"receivers\": receivers,\n",
    "}\n",
    "graphs_tuple = utils_np.data_dicts_to_graphs_tuple([data_dict])"
   ]
  },
  {
   "cell_type": "code",
   "execution_count": null,
   "metadata": {
    "collapsed": true
   },
   "outputs": [],
   "source": []
  }
 ],
 "metadata": {
  "kernelspec": {
   "display_name": "Python 3",
   "language": "python",
   "name": "python3"
  },
  "language_info": {
   "codemirror_mode": {
    "name": "ipython",
    "version": 3
   },
   "file_extension": ".py",
   "mimetype": "text/x-python",
   "name": "python",
   "nbconvert_exporter": "python",
   "pygments_lexer": "ipython3",
   "version": "3.5.2"
  }
 },
 "nbformat": 4,
 "nbformat_minor": 2
}

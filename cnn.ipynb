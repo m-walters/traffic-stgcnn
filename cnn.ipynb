{
 "cells": [
  {
   "cell_type": "code",
   "execution_count": 1,
   "metadata": {},
   "outputs": [],
   "source": [
    "#%source bin/activate\n",
    "import tensorflow as tf\n",
    "import os\n",
    "import random\n",
    "import time\n",
    "import matplotlib.pyplot as plt\n",
    "import numpy as np\n",
    "%matplotlib inline"
   ]
  },
  {
   "cell_type": "code",
   "execution_count": 2,
   "metadata": {},
   "outputs": [],
   "source": [
    "rundir = \"/home/walterms/project/walterms/mcmd/nn/tffnn/data/mixed/\"\n",
    "trndir = rundir+\"train/\"\n",
    "testdir = rundir+\"test/\"\n",
    "bThetas = True\n",
    "NLBL = 4\n",
    "\n",
    "trnlist = [\"tjam_th\", \"xjam_th\"]\n",
    "# trnlist = [\"edge15.00\", \"edge30.00\"]\n",
    "testlist = [\"tjam_th\", \"xjam_th\"]\n",
    "# testlist = [\"edge15.00\", \"edge30.00\"]\n",
    "\n",
    "if trnlist == [\"\"]:\n",
    "    trnlist = [trndir+x for x in os.listdir(trndir)]\n",
    "else:\n",
    "    trnlist = [trndir+x for x in trnlist]\n",
    "if testlist == [\"\"]:\n",
    "    testlist = [testdir+x for x in os.listdir(testdir)]\n",
    "else:\n",
    "    testlist = [testdir+x for x in testlist]"
   ]
  },
  {
   "cell_type": "code",
   "execution_count": 3,
   "metadata": {},
   "outputs": [
    {
     "name": "stdout",
     "output_type": "stream",
     "text": [
      "Processing /home/walterms/project/walterms/mcmd/nn/tffnn/data/mixed/train/tjam_th as training data\n"
     ]
    },
    {
     "ename": "NameError",
     "evalue": "name 'lbls' is not defined",
     "output_type": "error",
     "traceback": [
      "\u001b[0;31m\u001b[0m",
      "\u001b[0;31mNameError\u001b[0mTraceback (most recent call last)",
      "\u001b[0;32m<ipython-input-3-6a7c3078651a>\u001b[0m in \u001b[0;36m<module>\u001b[0;34m()\u001b[0m\n\u001b[1;32m     20\u001b[0m             \u001b[0;31m# Done a block\u001b[0m\u001b[0;34m\u001b[0m\u001b[0;34m\u001b[0m\u001b[0m\n\u001b[1;32m     21\u001b[0m             \u001b[0mlbl\u001b[0m \u001b[0;34m=\u001b[0m \u001b[0mint\u001b[0m\u001b[0;34m(\u001b[0m\u001b[0mfloat\u001b[0m\u001b[0;34m(\u001b[0m\u001b[0mline\u001b[0m\u001b[0;34m.\u001b[0m\u001b[0msplit\u001b[0m\u001b[0;34m(\u001b[0m\u001b[0;34m)\u001b[0m\u001b[0;34m[\u001b[0m\u001b[0;36m1\u001b[0m\u001b[0;34m]\u001b[0m\u001b[0;34m)\u001b[0m\u001b[0;34m)\u001b[0m\u001b[0;34m\u001b[0m\u001b[0m\n\u001b[0;32m---> 22\u001b[0;31m             \u001b[0mlbls\u001b[0m\u001b[0;34m[\u001b[0m\u001b[0mlbl\u001b[0m\u001b[0;34m]\u001b[0m \u001b[0;34m=\u001b[0m \u001b[0;36m1\u001b[0m\u001b[0;34m\u001b[0m\u001b[0m\n\u001b[0m\u001b[1;32m     23\u001b[0m             \u001b[0mtrn_labels\u001b[0m\u001b[0;34m.\u001b[0m\u001b[0mappend\u001b[0m\u001b[0;34m(\u001b[0m\u001b[0mlbls\u001b[0m\u001b[0;34m)\u001b[0m\u001b[0;34m\u001b[0m\u001b[0m\n\u001b[1;32m     24\u001b[0m \u001b[0;34m\u001b[0m\u001b[0m\n",
      "\u001b[0;31mNameError\u001b[0m: name 'lbls' is not defined"
     ]
    }
   ],
   "source": [
    "# Compile training set\n",
    "trn_data = []\n",
    "trn_inputs = []\n",
    "trn_labels = []\n",
    "\n",
    "nTrnPerFile = 8000\n",
    "shufIdx = [p for p in range(400)]\n",
    "random.shuffle(shufIdx)\n",
    "            \n",
    "for f in trnlist:\n",
    "    print \"Processing \" + f + \" as training data\"\n",
    "    thetas = []\n",
    "    xs = []\n",
    "    ys = []\n",
    "    fin = open(f, 'r')\n",
    "    nTrn = 0\n",
    "    for line in fin.readlines():\n",
    "        if line == \"\\n\": continue\n",
    "        if line.startswith(\"label\"):\n",
    "            # Done a block\n",
    "            lbl = int(float(line.split()[1]))\n",
    "            lbls[lbl] = 1\n",
    "            trn_labels.append(lbls)\n",
    "            \n",
    "            if bThetas:\n",
    "                # Insert theta data\n",
    "                formatted_data = np.zeros(shape=(400,1))\n",
    "                random.shuffle(shufIdx)\n",
    "                for s in shufIdx:\n",
    "                    formatted_data[s] = [thetas[s]]\n",
    "                trn_inputs.append(formatted_data)\n",
    "            else:\n",
    "                # Insert data as triplets\n",
    "                formatted_data = np.zeros(shape=(400,3))\n",
    "                random.shuffle(shufIdx)\n",
    "                for s in shufIdx:\n",
    "                    formatted_data[s] = [xs[s],ys[s],thetas[s]]\n",
    "                trn_inputs.append(formatted_data)\n",
    "                \n",
    "            thetas = []\n",
    "            xs = []\n",
    "            ys = []\n",
    "            nTrn+=1\n",
    "            if nTrn == nTrnPerFile: \n",
    "                break\n",
    "            continue\n",
    "        spt = [float(x) for x in line.split()]\n",
    "        xs.append(spt[0])\n",
    "        ys.append(spt[1])\n",
    "        thetas.append(spt[2])\n",
    "\n",
    "    fin.close()\n",
    "        \n",
    "for i in range(len(trn_inputs)):\n",
    "    trn_data.append([trn_inputs[i], trn_labels[i]])\n",
    "    \n",
    "random.shuffle(trn_data)\n",
    "\n",
    "print \"Done compiling training set\""
   ]
  },
  {
   "cell_type": "code",
   "execution_count": 4,
   "metadata": {},
   "outputs": [
    {
     "name": "stdout",
     "output_type": "stream",
     "text": [
      "Adding /home/walterms/project/walterms/mcmd/nn/tffnn/data/mixed/test/tjam to test set\n",
      "Adding /home/walterms/project/walterms/mcmd/nn/tffnn/data/mixed/test/xjam to test set\n",
      "Done\n"
     ]
    }
   ],
   "source": [
    "test_data = []\n",
    "test_inputs = []\n",
    "test_labels = []\n",
    "\n",
    "for f in testlist:\n",
    "    print \"Adding \" + f + \" to test set\"\n",
    "    thetas = []\n",
    "    xs = []\n",
    "    ys = []\n",
    "    fin = open(f, 'r')\n",
    "    nTrn = 0\n",
    "    for line in fin.readlines():\n",
    "        if line == \"\\n\": continue\n",
    "        if line.startswith(\"label\"):\n",
    "            # Done a block\n",
    "            lbl = int(float(line.split()[1]))\n",
    "            lbls[lbl] = 1\n",
    "            test_labels.append(lbls)\n",
    "            if bThetas:\n",
    "                # Insert theta data\n",
    "                formatted_data = np.zeros(shape=(400,1))\n",
    "                random.shuffle(shufIdx)\n",
    "                for s in shufIdx:\n",
    "                    formatted_data[s] = [thetas[s]]\n",
    "                test_inputs.append(formatted_data)\n",
    "            else:\n",
    "                # Insert data as triplets\n",
    "                formatted_data = np.zeros(shape=(400,3))\n",
    "                random.shuffle(shufIdx)\n",
    "                for s in shufIdx:\n",
    "                    formatted_data[s] = [xs[s],ys[s],thetas[s]]\n",
    "                test_inputs.append(formatted_data)\n",
    "            thetas = []\n",
    "            xs = []\n",
    "            ys = []\n",
    "            nTrn+=1\n",
    "            if nTrn == nTrnPerFile: \n",
    "                break\n",
    "            continue\n",
    "        spt = [float(x) for x in line.split()]\n",
    "        xs.append(spt[0])\n",
    "        ys.append(spt[1])\n",
    "        thetas.append(spt[2])\n",
    "\n",
    "    fin.close()\n",
    "for i in range(len(test_inputs)):\n",
    "    test_data.append([test_inputs[i], test_labels[i]])\n",
    "\n",
    "print \"Done\""
   ]
  },
  {
   "cell_type": "code",
   "execution_count": 5,
   "metadata": {},
   "outputs": [
    {
     "name": "stdout",
     "output_type": "stream",
     "text": [
      "16000 1000\n"
     ]
    }
   ],
   "source": [
    "print len(trn_data), len(test_data)"
   ]
  },
  {
   "cell_type": "code",
   "execution_count": 6,
   "metadata": {},
   "outputs": [],
   "source": [
    "class runrecord:\n",
    "    def __init__(self,\n",
    "                trnlist,\n",
    "                testlist,\n",
    "                bThetas,\n",
    "                sizedict,\n",
    "                batchsize,\n",
    "                eta,\n",
    "                keepprob,                \n",
    "                nEpoch):\n",
    "        self.params = {\n",
    "            \"trnlist\":trnlist,\n",
    "            \"testlist\":testlist,\n",
    "            \"bThetas\":bThetas,\n",
    "            \"batchsize\":batchsize,\n",
    "            \"eta\":eta,\n",
    "            \"keepprob\":keepprob,\n",
    "            \"nEpoch\":nEpoch\n",
    "        }\n",
    "        \n",
    "        self.sizedict=sizedict\n",
    "        self.testacc = np.zeros(shape=(nEpoch,))        \n",
    "        self.trnacc = np.zeros(shape=(nEpoch,))        \n",
    "        self.testlosses = np.zeros(shape=(nEpoch,))        \n",
    "        self.trnlosses = np.zeros(shape=(nEpoch,))"
   ]
  },
  {
   "cell_type": "code",
   "execution_count": 9,
   "metadata": {},
   "outputs": [],
   "source": [
    "records = []"
   ]
  },
  {
   "cell_type": "code",
   "execution_count": 7,
   "metadata": {
    "scrolled": false
   },
   "outputs": [],
   "source": [
    "batchsize = 200\n",
    "nInput = 400\n",
    "inChan = 3\n",
    "if bThetas: inChan = 1\n",
    "imgheight,imgwidth = 1,nInput\n",
    "\n",
    "# Divide by stride*stride for each conv layer\n",
    "filtwidth = 1\n",
    "stride = 1\n",
    "conv1_nOut = 3 # 32\n",
    "# conv2_nOut = 64\n",
    "fc1_nIn = imgheight*imgwidth*conv1_nOut/(stride*stride*stride*stride)\n",
    "fc1_nOut = 200\n",
    "\n",
    "eta = 1e-3\n",
    "\n",
    "sizedict = {\"nInput\":nInput,\n",
    "            \"inChan\":inChan,\n",
    "            \"imgheight\":imgheight,\n",
    "            \"imgwidth\":imgwidth,\n",
    "            \"filtwidth\":filtwidth,\n",
    "            \"stride\":stride,\n",
    "            \"conv1_nOut\":conv1_nOut,\n",
    "            \"fc1_nIn\":fc1_nIn,\n",
    "            \"fc1_nOut\":fc1_nOut\n",
    "           }\n",
    "\n",
    "def weight_variable(shape):\n",
    "    initial = tf.truncated_normal(shape, stddev=0.1)\n",
    "    return tf.Variable(initial)\n",
    "\n",
    "def bias_variable(shape):\n",
    "    initial = tf.truncated_normal(shape, stddev=0.1)\n",
    "    return tf.Variable(initial)\n",
    "\n",
    "def conv2d(x, W):\n",
    "    s = stride\n",
    "    return tf.nn.conv2d(x, W, strides=[1,s,s,1], padding='SAME')\n",
    "\n",
    "\n",
    "x = tf.placeholder(tf.float32, shape=[None, nInput, inChan])\n",
    "y_ = tf.placeholder(tf.float32, shape=[None, NLBL])\n",
    "\n",
    "x_image = tf.reshape(x, [-1, imgheight, imgwidth, inChan])\n",
    "keep_prob = tf.placeholder(tf.float32)\n",
    "\n",
    "W_conv1 = weight_variable([filtwidth, filtwidth, inChan, conv1_nOut]) # [x,y,nInputChannel,nOutChannel]\n",
    "b_conv1 = bias_variable([conv1_nOut])\n",
    "h_conv1 = tf.nn.relu(conv2d(x_image, W_conv1) + b_conv1)\n",
    "\n",
    "# W_conv2 = weight_variable([filtwidth, filtwidth, conv1_nOut, conv2_nOut])\n",
    "# b_conv2 = bias_variable([conv2_nOut])\n",
    "# h_conv2 = tf.nn.relu(conv2d(h_conv1, W_conv2) + b_conv2)\n",
    "\n",
    "W_fc1 = weight_variable([fc1_nIn, fc1_nOut])\n",
    "b_fc1 = bias_variable([fc1_nOut])\n",
    "h_conv1_flat = tf.reshape(h_conv1, [-1, fc1_nIn])\n",
    "h_fc1 = tf.nn.dropout(tf.nn.relu(tf.matmul(h_conv1_flat, W_fc1) + b_fc1), keep_prob)\n",
    "\n",
    "W_fc2 = weight_variable([fc1_nOut, NLBL])\n",
    "b_fc2 = bias_variable([NLBL])\n",
    "\n",
    "zout = tf.matmul(h_fc1,W_fc2)+b_fc2\n",
    "y_out = tf.nn.softmax(zout)\n",
    "\n",
    "cost = tf.reduce_mean(tf.nn.softmax_cross_entropy_with_logits(labels=y_, logits=zout))\n",
    "\n",
    "train_step = tf.train.AdamOptimizer(eta).minimize(cost)\n",
    "correct_prediction = tf.equal(tf.argmax(y_out, 1), tf.argmax(y_, 1))\n",
    "accuracy = tf.reduce_mean(tf.cast(correct_prediction, tf.float32))"
   ]
  },
  {
   "cell_type": "code",
   "execution_count": 14,
   "metadata": {},
   "outputs": [],
   "source": [
    "# Remove most recent run from records\n",
    "tmp = list(records)\n",
    "records = []\n",
    "for r in tmp[0:-1]:\n",
    "    records.append(r)"
   ]
  },
  {
   "cell_type": "code",
   "execution_count": 11,
   "metadata": {
    "scrolled": false
   },
   "outputs": [
    {
     "name": "stdout",
     "output_type": "stream",
     "text": [
      "(1000, 400, 1)\n",
      "epoch 0, trnacc 1, test accuracy 1, trncost 5.7717e-05, testcost 5.76378e-05\n",
      "epoch 2, trnacc 1, test accuracy 1, trncost 1.23799e-06, testcost 1.266e-06\n",
      "epoch 4, trnacc 1, test accuracy 1, trncost 2.88486e-07, testcost 2.87533e-07\n",
      "epoch 6, trnacc 1, test accuracy 1, trncost 1.04308e-07, testcost 1.0252e-07\n",
      "epoch 8, trnacc 1, test accuracy 1, trncost 4.52995e-08, testcost 4.01735e-08\n",
      "epoch 10, trnacc 1, test accuracy 1, trncost 0, testcost 0\n",
      "epoch 12, trnacc 1, test accuracy 1, trncost 0, testcost 0\n"
     ]
    },
    {
     "ename": "KeyboardInterrupt",
     "evalue": "",
     "output_type": "error",
     "traceback": [
      "\u001b[0;31m\u001b[0m",
      "\u001b[0;31mKeyboardInterrupt\u001b[0mTraceback (most recent call last)",
      "\u001b[0;32m<ipython-input-11-591915d3e4ca>\u001b[0m in \u001b[0;36m<module>\u001b[0;34m()\u001b[0m\n\u001b[1;32m     27\u001b[0m             \u001b[0mxin\u001b[0m \u001b[0;34m=\u001b[0m \u001b[0mnp\u001b[0m\u001b[0;34m.\u001b[0m\u001b[0masarray\u001b[0m\u001b[0;34m(\u001b[0m\u001b[0;34m[\u001b[0m\u001b[0mtrn_data\u001b[0m\u001b[0;34m[\u001b[0m\u001b[0mib\u001b[0m\u001b[0;34m+\u001b[0m\u001b[0miib\u001b[0m\u001b[0;34m]\u001b[0m\u001b[0;34m[\u001b[0m\u001b[0;36m0\u001b[0m\u001b[0;34m]\u001b[0m \u001b[0;32mfor\u001b[0m \u001b[0miib\u001b[0m \u001b[0;32min\u001b[0m \u001b[0mxrange\u001b[0m\u001b[0;34m(\u001b[0m\u001b[0mbatchsize\u001b[0m\u001b[0;34m)\u001b[0m\u001b[0;34m]\u001b[0m\u001b[0;34m)\u001b[0m\u001b[0;34m\u001b[0m\u001b[0m\n\u001b[1;32m     28\u001b[0m             \u001b[0myin\u001b[0m \u001b[0;34m=\u001b[0m \u001b[0mnp\u001b[0m\u001b[0;34m.\u001b[0m\u001b[0masarray\u001b[0m\u001b[0;34m(\u001b[0m\u001b[0;34m[\u001b[0m\u001b[0mtrn_data\u001b[0m\u001b[0;34m[\u001b[0m\u001b[0mib\u001b[0m\u001b[0;34m+\u001b[0m\u001b[0miib\u001b[0m\u001b[0;34m]\u001b[0m\u001b[0;34m[\u001b[0m\u001b[0;36m1\u001b[0m\u001b[0;34m]\u001b[0m \u001b[0;32mfor\u001b[0m \u001b[0miib\u001b[0m \u001b[0;32min\u001b[0m \u001b[0mxrange\u001b[0m\u001b[0;34m(\u001b[0m\u001b[0mbatchsize\u001b[0m\u001b[0;34m)\u001b[0m\u001b[0;34m]\u001b[0m\u001b[0;34m)\u001b[0m\u001b[0;34m\u001b[0m\u001b[0m\n\u001b[0;32m---> 29\u001b[0;31m             \u001b[0mtrain_step\u001b[0m\u001b[0;34m.\u001b[0m\u001b[0mrun\u001b[0m\u001b[0;34m(\u001b[0m\u001b[0mfeed_dict\u001b[0m\u001b[0;34m=\u001b[0m\u001b[0;34m{\u001b[0m\u001b[0mx\u001b[0m\u001b[0;34m:\u001b[0m\u001b[0mxin\u001b[0m\u001b[0;34m,\u001b[0m \u001b[0my_\u001b[0m\u001b[0;34m:\u001b[0m\u001b[0myin\u001b[0m\u001b[0;34m,\u001b[0m \u001b[0mkeep_prob\u001b[0m\u001b[0;34m:\u001b[0m\u001b[0mpy_keepprob\u001b[0m\u001b[0;34m}\u001b[0m\u001b[0;34m)\u001b[0m\u001b[0;34m\u001b[0m\u001b[0m\n\u001b[0m\u001b[1;32m     30\u001b[0m \u001b[0;34m\u001b[0m\u001b[0m\n\u001b[1;32m     31\u001b[0m         \u001b[0;32mif\u001b[0m \u001b[0me\u001b[0m \u001b[0;34m%\u001b[0m \u001b[0;36m2\u001b[0m \u001b[0;34m==\u001b[0m \u001b[0;36m0\u001b[0m\u001b[0;34m:\u001b[0m\u001b[0;34m\u001b[0m\u001b[0m\n",
      "\u001b[0;32m/home/walterms/jupyter_py2/lib/python2.7/site-packages/tensorflow/python/framework/ops.pyc\u001b[0m in \u001b[0;36mrun\u001b[0;34m(self, feed_dict, session)\u001b[0m\n\u001b[1;32m   1742\u001b[0m         \u001b[0mnone\u001b[0m\u001b[0;34m,\u001b[0m \u001b[0mthe\u001b[0m \u001b[0mdefault\u001b[0m \u001b[0msession\u001b[0m \u001b[0mwill\u001b[0m \u001b[0mbe\u001b[0m \u001b[0mused\u001b[0m\u001b[0;34m.\u001b[0m\u001b[0;34m\u001b[0m\u001b[0m\n\u001b[1;32m   1743\u001b[0m     \"\"\"\n\u001b[0;32m-> 1744\u001b[0;31m     \u001b[0m_run_using_default_session\u001b[0m\u001b[0;34m(\u001b[0m\u001b[0mself\u001b[0m\u001b[0;34m,\u001b[0m \u001b[0mfeed_dict\u001b[0m\u001b[0;34m,\u001b[0m \u001b[0mself\u001b[0m\u001b[0;34m.\u001b[0m\u001b[0mgraph\u001b[0m\u001b[0;34m,\u001b[0m \u001b[0msession\u001b[0m\u001b[0;34m)\u001b[0m\u001b[0;34m\u001b[0m\u001b[0m\n\u001b[0m\u001b[1;32m   1745\u001b[0m \u001b[0;34m\u001b[0m\u001b[0m\n\u001b[1;32m   1746\u001b[0m \u001b[0;34m\u001b[0m\u001b[0m\n",
      "\u001b[0;32m/home/walterms/jupyter_py2/lib/python2.7/site-packages/tensorflow/python/framework/ops.pyc\u001b[0m in \u001b[0;36m_run_using_default_session\u001b[0;34m(operation, feed_dict, graph, session)\u001b[0m\n\u001b[1;32m   4118\u001b[0m                        \u001b[0;34m\"the operation's graph is different from the session's \"\u001b[0m\u001b[0;34m\u001b[0m\u001b[0m\n\u001b[1;32m   4119\u001b[0m                        \"graph.\")\n\u001b[0;32m-> 4120\u001b[0;31m   \u001b[0msession\u001b[0m\u001b[0;34m.\u001b[0m\u001b[0mrun\u001b[0m\u001b[0;34m(\u001b[0m\u001b[0moperation\u001b[0m\u001b[0;34m,\u001b[0m \u001b[0mfeed_dict\u001b[0m\u001b[0;34m)\u001b[0m\u001b[0;34m\u001b[0m\u001b[0m\n\u001b[0m\u001b[1;32m   4121\u001b[0m \u001b[0;34m\u001b[0m\u001b[0m\n\u001b[1;32m   4122\u001b[0m \u001b[0;34m\u001b[0m\u001b[0m\n",
      "\u001b[0;32m/home/walterms/jupyter_py2/lib/python2.7/site-packages/tensorflow/python/client/session.pyc\u001b[0m in \u001b[0;36mrun\u001b[0;34m(self, fetches, feed_dict, options, run_metadata)\u001b[0m\n\u001b[1;32m    893\u001b[0m     \u001b[0;32mtry\u001b[0m\u001b[0;34m:\u001b[0m\u001b[0;34m\u001b[0m\u001b[0m\n\u001b[1;32m    894\u001b[0m       result = self._run(None, fetches, feed_dict, options_ptr,\n\u001b[0;32m--> 895\u001b[0;31m                          run_metadata_ptr)\n\u001b[0m\u001b[1;32m    896\u001b[0m       \u001b[0;32mif\u001b[0m \u001b[0mrun_metadata\u001b[0m\u001b[0;34m:\u001b[0m\u001b[0;34m\u001b[0m\u001b[0m\n\u001b[1;32m    897\u001b[0m         \u001b[0mproto_data\u001b[0m \u001b[0;34m=\u001b[0m \u001b[0mtf_session\u001b[0m\u001b[0;34m.\u001b[0m\u001b[0mTF_GetBuffer\u001b[0m\u001b[0;34m(\u001b[0m\u001b[0mrun_metadata_ptr\u001b[0m\u001b[0;34m)\u001b[0m\u001b[0;34m\u001b[0m\u001b[0m\n",
      "\u001b[0;32m/home/walterms/jupyter_py2/lib/python2.7/site-packages/tensorflow/python/client/session.pyc\u001b[0m in \u001b[0;36m_run\u001b[0;34m(self, handle, fetches, feed_dict, options, run_metadata)\u001b[0m\n\u001b[1;32m   1122\u001b[0m     \u001b[0;32mif\u001b[0m \u001b[0mfinal_fetches\u001b[0m \u001b[0;32mor\u001b[0m \u001b[0mfinal_targets\u001b[0m \u001b[0;32mor\u001b[0m \u001b[0;34m(\u001b[0m\u001b[0mhandle\u001b[0m \u001b[0;32mand\u001b[0m \u001b[0mfeed_dict_tensor\u001b[0m\u001b[0;34m)\u001b[0m\u001b[0;34m:\u001b[0m\u001b[0;34m\u001b[0m\u001b[0m\n\u001b[1;32m   1123\u001b[0m       results = self._do_run(handle, final_targets, final_fetches,\n\u001b[0;32m-> 1124\u001b[0;31m                              feed_dict_tensor, options, run_metadata)\n\u001b[0m\u001b[1;32m   1125\u001b[0m     \u001b[0;32melse\u001b[0m\u001b[0;34m:\u001b[0m\u001b[0;34m\u001b[0m\u001b[0m\n\u001b[1;32m   1126\u001b[0m       \u001b[0mresults\u001b[0m \u001b[0;34m=\u001b[0m \u001b[0;34m[\u001b[0m\u001b[0;34m]\u001b[0m\u001b[0;34m\u001b[0m\u001b[0m\n",
      "\u001b[0;32m/home/walterms/jupyter_py2/lib/python2.7/site-packages/tensorflow/python/client/session.pyc\u001b[0m in \u001b[0;36m_do_run\u001b[0;34m(self, handle, target_list, fetch_list, feed_dict, options, run_metadata)\u001b[0m\n\u001b[1;32m   1319\u001b[0m     \u001b[0;32mif\u001b[0m \u001b[0mhandle\u001b[0m \u001b[0;32mis\u001b[0m \u001b[0mNone\u001b[0m\u001b[0;34m:\u001b[0m\u001b[0;34m\u001b[0m\u001b[0m\n\u001b[1;32m   1320\u001b[0m       return self._do_call(_run_fn, self._session, feeds, fetches, targets,\n\u001b[0;32m-> 1321\u001b[0;31m                            options, run_metadata)\n\u001b[0m\u001b[1;32m   1322\u001b[0m     \u001b[0;32melse\u001b[0m\u001b[0;34m:\u001b[0m\u001b[0;34m\u001b[0m\u001b[0m\n\u001b[1;32m   1323\u001b[0m       \u001b[0;32mreturn\u001b[0m \u001b[0mself\u001b[0m\u001b[0;34m.\u001b[0m\u001b[0m_do_call\u001b[0m\u001b[0;34m(\u001b[0m\u001b[0m_prun_fn\u001b[0m\u001b[0;34m,\u001b[0m \u001b[0mself\u001b[0m\u001b[0;34m.\u001b[0m\u001b[0m_session\u001b[0m\u001b[0;34m,\u001b[0m \u001b[0mhandle\u001b[0m\u001b[0;34m,\u001b[0m \u001b[0mfeeds\u001b[0m\u001b[0;34m,\u001b[0m \u001b[0mfetches\u001b[0m\u001b[0;34m)\u001b[0m\u001b[0;34m\u001b[0m\u001b[0m\n",
      "\u001b[0;32m/home/walterms/jupyter_py2/lib/python2.7/site-packages/tensorflow/python/client/session.pyc\u001b[0m in \u001b[0;36m_do_call\u001b[0;34m(self, fn, *args)\u001b[0m\n\u001b[1;32m   1325\u001b[0m   \u001b[0;32mdef\u001b[0m \u001b[0m_do_call\u001b[0m\u001b[0;34m(\u001b[0m\u001b[0mself\u001b[0m\u001b[0;34m,\u001b[0m \u001b[0mfn\u001b[0m\u001b[0;34m,\u001b[0m \u001b[0;34m*\u001b[0m\u001b[0margs\u001b[0m\u001b[0;34m)\u001b[0m\u001b[0;34m:\u001b[0m\u001b[0;34m\u001b[0m\u001b[0m\n\u001b[1;32m   1326\u001b[0m     \u001b[0;32mtry\u001b[0m\u001b[0;34m:\u001b[0m\u001b[0;34m\u001b[0m\u001b[0m\n\u001b[0;32m-> 1327\u001b[0;31m       \u001b[0;32mreturn\u001b[0m \u001b[0mfn\u001b[0m\u001b[0;34m(\u001b[0m\u001b[0;34m*\u001b[0m\u001b[0margs\u001b[0m\u001b[0;34m)\u001b[0m\u001b[0;34m\u001b[0m\u001b[0m\n\u001b[0m\u001b[1;32m   1328\u001b[0m     \u001b[0;32mexcept\u001b[0m \u001b[0merrors\u001b[0m\u001b[0;34m.\u001b[0m\u001b[0mOpError\u001b[0m \u001b[0;32mas\u001b[0m \u001b[0me\u001b[0m\u001b[0;34m:\u001b[0m\u001b[0;34m\u001b[0m\u001b[0m\n\u001b[1;32m   1329\u001b[0m       \u001b[0mmessage\u001b[0m \u001b[0;34m=\u001b[0m \u001b[0mcompat\u001b[0m\u001b[0;34m.\u001b[0m\u001b[0mas_text\u001b[0m\u001b[0;34m(\u001b[0m\u001b[0me\u001b[0m\u001b[0;34m.\u001b[0m\u001b[0mmessage\u001b[0m\u001b[0;34m)\u001b[0m\u001b[0;34m\u001b[0m\u001b[0m\n",
      "\u001b[0;32m/home/walterms/jupyter_py2/lib/python2.7/site-packages/tensorflow/python/client/session.pyc\u001b[0m in \u001b[0;36m_run_fn\u001b[0;34m(session, feed_dict, fetch_list, target_list, options, run_metadata)\u001b[0m\n\u001b[1;32m   1304\u001b[0m           return tf_session.TF_Run(session, options,\n\u001b[1;32m   1305\u001b[0m                                    \u001b[0mfeed_dict\u001b[0m\u001b[0;34m,\u001b[0m \u001b[0mfetch_list\u001b[0m\u001b[0;34m,\u001b[0m \u001b[0mtarget_list\u001b[0m\u001b[0;34m,\u001b[0m\u001b[0;34m\u001b[0m\u001b[0m\n\u001b[0;32m-> 1306\u001b[0;31m                                    status, run_metadata)\n\u001b[0m\u001b[1;32m   1307\u001b[0m \u001b[0;34m\u001b[0m\u001b[0m\n\u001b[1;32m   1308\u001b[0m     \u001b[0;32mdef\u001b[0m \u001b[0m_prun_fn\u001b[0m\u001b[0;34m(\u001b[0m\u001b[0msession\u001b[0m\u001b[0;34m,\u001b[0m \u001b[0mhandle\u001b[0m\u001b[0;34m,\u001b[0m \u001b[0mfeed_dict\u001b[0m\u001b[0;34m,\u001b[0m \u001b[0mfetch_list\u001b[0m\u001b[0;34m)\u001b[0m\u001b[0;34m:\u001b[0m\u001b[0;34m\u001b[0m\u001b[0m\n",
      "\u001b[0;31mKeyboardInterrupt\u001b[0m: "
     ]
    }
   ],
   "source": [
    "nEpoch = 400\n",
    "py_keepprob = .8\n",
    "\n",
    "thisrecord = runrecord(trnlist,testlist,bThetas,sizedict,batchsize,eta,py_keepprob,nEpoch)\n",
    "records.append(thisrecord)\n",
    "\n",
    "random.shuffle(trn_data)\n",
    "random.shuffle(test_data)\n",
    "xtest = np.asarray([test_data[i][0] for i in xrange(len(test_data))])\n",
    "ytest = np.asarray([test_data[i][1] for i in xrange(len(test_data))])\n",
    "\n",
    "print xtest.shape\n",
    "\n",
    "# sess = tf.Session()\n",
    "# sess.run(tf.global_variables_initializer())\n",
    "# with sess.as_default():\n",
    "#     assert tf.get_default_session() is sess\n",
    "with tf.Session() as sess:\n",
    "    sess.run(tf.global_variables_initializer())\n",
    "    for e in range(nEpoch):\n",
    "        # Shuffle data\n",
    "        random.shuffle(trn_data)\n",
    "\n",
    "        for b in range(len(trn_data)/batchsize):\n",
    "            ib = b*batchsize\n",
    "            # Pepare a batch\n",
    "            xin = np.asarray([trn_data[ib+iib][0] for iib in xrange(batchsize)])\n",
    "            yin = np.asarray([trn_data[ib+iib][1] for iib in xrange(batchsize)])\n",
    "            train_step.run(feed_dict={x:xin, y_:yin, keep_prob:py_keepprob})\n",
    "\n",
    "        if e % 2 == 0:\n",
    "            # Cost from trn data\n",
    "            xin = np.asarray([trn_data[iib][0] for iib in xrange(batchsize)])\n",
    "            yin = np.asarray([trn_data[iib][1] for iib in xrange(batchsize)])\n",
    "            trnacc, trncost = sess.run([accuracy,cost],feed_dict={x:xin, y_:yin, keep_prob:1.0})\n",
    "            # Eval on test set\n",
    "            test_accuracy, youts, testcost = sess.run([accuracy,y_out,cost],feed_dict={\n",
    "                x: xtest, y_: ytest, keep_prob: 1.0})\n",
    "            print('epoch %d, trnacc %g, test accuracy %g, trncost %g, testcost %g' \n",
    "                  % (e,trnacc,test_accuracy,trncost,testcost))\n",
    "            thisrecord.testlosses[e] = testcost\n",
    "            thisrecord.trnlosses[e] = trncost\n",
    "            thisrecord.testacc[e] = test_accuracy\n",
    "            thisrecord.trnacc[e] = trnacc\n",
    "            \n",
    "            \n",
    "# sess.close()\n",
    "print \"Done\""
   ]
  },
  {
   "cell_type": "code",
   "execution_count": 18,
   "metadata": {},
   "outputs": [
    {
     "data": {
      "image/png": "[encoded data removed]",
      "text/plain": [
       "<matplotlib.figure.Figure at 0x2ab954a23ed0>"
      ]
     },
     "metadata": {},
     "output_type": "display_data"
    }
   ],
   "source": [
    "# Loss plot\n",
    "# Mask on zeros\n",
    "f, ax = plt.subplots(1,2)\n",
    "for r in records[-1:]:\n",
    "    x = np.argwhere(r.testlosses>0)\n",
    "    ax0, = ax[0].plot(x,r.trnlosses[x],'b-',label='train loss')\n",
    "    axtwin = ax[0].twinx()\n",
    "    ax0t, = axtwin.plot(x,r.testlosses[x],'g:',label='test loss')\n",
    "    l1 = plt.legend([ax0,ax0t],[\"train loss\", \"test loss\"])\n",
    "    ax[1].plot(x,r.trnacc[x],'b-',label=\"train\")\n",
    "    ax[1].plot(x,r.testacc[x],'g:',label=\"test\")\n",
    "    ax[1].legend()\n",
    "    ax[0].set_yscale(\"log\", nonposy='mask')\n",
    "    axtwin.set_yscale(\"log\", nonposy='mask')\n",
    "    \n",
    "plt.gcf().set_size_inches(14,5)"
   ]
  },
  {
   "cell_type": "code",
   "execution_count": null,
   "metadata": {},
   "outputs": [],
   "source": []
  }
 ],
 "metadata": {
  "kernelspec": {
   "display_name": "Python 2",
   "language": "python",
   "name": "python2"
  },
  "language_info": {
   "codemirror_mode": {
    "name": "ipython",
    "version": 2
   },
   "file_extension": ".py",
   "mimetype": "text/x-python",
   "name": "python",
   "nbconvert_exporter": "python",
   "pygments_lexer": "ipython2",
   "version": "2.7.13"
  }
 },
 "nbformat": 4,
 "nbformat_minor": 2
}

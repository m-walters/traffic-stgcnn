{
 "cells": [
  {
   "cell_type": "code",
   "execution_count": 7,
   "metadata": {
    "collapsed": true
   },
   "outputs": [],
   "source": [
    "import numpy as np\n",
    "import matplotlib.pyplot as plt\n",
    "from matplotlib.patches import Circle\n",
    "%matplotlib inline"
   ]
  },
  {
   "cell_type": "code",
   "execution_count": 38,
   "metadata": {},
   "outputs": [],
   "source": [
    "def plotnode(ax,x,y,rad=0.1):\n",
    "    circ = Circle((x,y),rad)\n",
    "    ax.add_patch(circ)"
   ]
  },
  {
   "cell_type": "code",
   "execution_count": 41,
   "metadata": {},
   "outputs": [
    {
     "data": {
      "image/png": "[encoded data removed]",
      "text/plain": [
       "<Figure size 432x288 with 1 Axes>"
      ]
     },
     "metadata": {
      "needs_background": "light"
     },
     "output_type": "display_data"
    }
   ],
   "source": [
    "f,ax = plt.subplots(1,1)\n",
    "plotnode(ax,0.2,0.2)\n",
    "ax.set_aspect('equal', adjustable='box')\n"
   ]
  },
  {
   "cell_type": "code",
   "execution_count": null,
   "metadata": {
    "collapsed": true
   },
   "outputs": [],
   "source": [
    "# Given nodes and edge plot them\n",
    "class graph:\n",
    "    def __init__(self,nodedict,fig=None,axis=None):\n",
    "        self.nodes = nodedict\n",
    "        self.npnodes = np.array([node[\"coords\"] for node in nodedict.values()],dtype=np.float)\n",
    "        self.xlims = [np.min(self.npnodes[:,0]),np.max(self.npnodes[:,0])]\n",
    "        self.ylims = [np.min(self.npnodes[:,1]),np.max(self.npnodes[:,1])]\n",
    "        self.graphwidth = self.xlims[1] - self.xlims[0]\n",
    "        self.graphheight = self.ylims[1] - self.ylims[0]\n",
    "        self.nnodes = len(self.npnodes)\n",
    "        self.nodecolor = \"darkblue\"\n",
    "        self.noderadius = self.graphwidth / np.sqrt(self.nnodes)\n",
    "\n",
    "        if not axis:\n",
    "            self.fig, self.ax = plt.subplots(1,1)\n",
    "            self.ax.set_ylim(self.ylims[0], self.ylims[1])\n",
    "            self.ax.set_xlim(self.xlims[0], self.xlims[1])\n",
    "            self.ax.set_aspect('equal', adjustable='box')\n",
    "            self.ax.set_xticks([])\n",
    "            self.ax.set_yticks([])\n",
    "        else:\n",
    "            self.ax = axis\n",
    "            \n",
    "    def setfig(self,fig):\n",
    "        self.fig = fig\n",
    "        \n",
    "    def drawgraph(self):        \n",
    "        for node in self.npnodes:\n",
    "            self.plotnode(node[0], nodes[1])\n",
    "        \n",
    "    def plotnode(self,x,y):\n",
    "        circ = Circle((x,y),self.noderadius)\n",
    "        self.ax.add_patch(circ)\n",
    "        "
   ]
  },
  {
   "cell_type": "code",
   "execution_count": null,
   "metadata": {
    "collapsed": true
   },
   "outputs": [],
   "source": []
  }
 ],
 "metadata": {
  "kernelspec": {
   "display_name": "Python 3",
   "language": "python",
   "name": "python3"
  },
  "language_info": {
   "codemirror_mode": {
    "name": "ipython",
    "version": 3
   },
   "file_extension": ".py",
   "mimetype": "text/x-python",
   "name": "python",
   "nbconvert_exporter": "python",
   "pygments_lexer": "ipython3",
   "version": "3.5.2"
  }
 },
 "nbformat": 4,
 "nbformat_minor": 2
}

{
 "cells": [
  {
   "cell_type": "code",
   "execution_count": 1,
   "metadata": {},
   "outputs": [],
   "source": [
    "import numpy as np\n",
    "import os\n",
    "import pandas as pd\n",
    "\n",
    "import logman\n",
    "import fluxGrid\n",
    "import velGrid"
   ]
  },
  {
   "cell_type": "code",
   "execution_count": null,
   "metadata": {
    "collapsed": true
   },
   "outputs": [],
   "source": [
    "long2km = 1/0.011741652782473\n",
    "lat2km = 1/0.008994627867046\n",
    "\n",
    "data = pd.read_csv(\"fakedata.csv\", names=['long','lat','time','dt'])\n",
    "N = (long)(len(data.index))\n",
    "data['long'] = data['long']*long2km\n",
    "data['lat'] = data['lat']*lat2km\n",
    "\n",
    "data = data.rename(columns={\"long\": \"x\", \"lat\": \"y\"})"
   ]
  },
  {
   "cell_type": "code",
   "execution_count": null,
   "metadata": {
    "collapsed": true
   },
   "outputs": [],
   "source": [
    "# From Liang's road spreadsheets\n",
    "# Approximately 150x150 km\n",
    "xmin = 115.5148074 * long2km\n",
    "xmax = 117.26431366500 * long2km\n",
    "ymin = 39.42848884480 * lat2km\n",
    "ymax = 40.67874211840 * lat2km\n",
    "dxCell, dyCell = 1., 1. #in km\n",
    "\n",
    "# From Liang's slides, the fifth ring\n",
    "# Approximately 30x30 km\n",
    "xmin = 116.1904 * long2km\n",
    "xmax = 116.583642 * long2km\n",
    "ymin = 39.758029 * lat2km\n",
    "ymax = 40.04453 * lat2km\n",
    "dxCell, dyCell = 0.1, 0.1 #in km\n",
    "\n",
    "fluxgrid = fluxgrid([xmin,xmax,ymin,ymax],dxCell,dyCell)"
   ]
  }
 ],
 "metadata": {
  "kernelspec": {
   "display_name": "Python 2",
   "language": "python",
   "name": "python2"
  },
  "language_info": {
   "codemirror_mode": {
    "name": "ipython",
    "version": 2
   },
   "file_extension": ".py",
   "mimetype": "text/x-python",
   "name": "python",
   "nbconvert_exporter": "python",
   "pygments_lexer": "ipython2",
   "version": "2.7.13"
  }
 },
 "nbformat": 4,
 "nbformat_minor": 2
}

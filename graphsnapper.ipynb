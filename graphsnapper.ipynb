{
 "cells": [
  {
   "cell_type": "code",
   "execution_count": 1,
   "metadata": {
    "collapsed": true
   },
   "outputs": [],
   "source": [
    "import numpy as np\n",
    "import graphtools as gt\n",
    "from importlib import reload\n",
    "import pandas as pd\n",
    "import matplotlib as plt\n",
    "\n",
    "%matplotlib notebook"
   ]
  },
  {
   "cell_type": "code",
   "execution_count": 2,
   "metadata": {},
   "outputs": [
    {
     "name": "stdout",
     "output_type": "stream",
     "text": [
      "Creating info dict\n",
      "nTG \t 144\n",
      "n_drivers \t 189515\n",
      "n_points \t 149165\n",
      "source \t /home/walterms/traffic/OUT0_FiveRing150buffer\n",
      "tcutoff \t 1.0\n",
      "tglen \t 10\n",
      "velmin \t 1.0\n",
      "xmax \t 9917.53639401\n",
      "xmin \t 9907.53639399\n",
      "ymax \t 4443.05976788\n",
      "ymin \t 4431.05976788\n"
     ]
    }
   ],
   "source": [
    "# Hyperparams\n",
    "vfname = \"veldata/secondring_t1.0v1.0l10\"\n",
    "info = {}\n",
    "infofname = vfname+\".info\"\n",
    "print(\"Creating info dict\")\n",
    "info = gt.get_info_dict(infofname)\n",
    "for key,val in sorted(info.items()):\n",
    "    print(key,\"\\t\",val)"
   ]
  },
  {
   "cell_type": "code",
   "execution_count": 3,
   "metadata": {},
   "outputs": [
    {
     "data": {
      "text/plain": [
       "<module 'graphtools' from '/home/michael/msc/summer17/traffic/traffic-stgcnn/graphtools.py'>"
      ]
     },
     "execution_count": 3,
     "metadata": {},
     "output_type": "execute_result"
    }
   ],
   "source": [
    "reload(gt)"
   ]
  },
  {
   "cell_type": "code",
   "execution_count": 4,
   "metadata": {},
   "outputs": [
    {
     "name": "stdout",
     "output_type": "stream",
     "text": [
      "Number of nodes 181\n",
      "Number of edges 1438\n"
     ]
    }
   ],
   "source": [
    "# Gather nodes\n",
    "xmin,xmax = info[\"xmin\"]/gt.long2km, info[\"xmax\"]/gt.long2km\n",
    "ymin,ymax = info[\"ymin\"]/gt.lat2km, info[\"ymax\"]/gt.lat2km\n",
    "region_gsi = [xmin,xmax,ymin,ymax]\n",
    "# A combines edges and connections to their idx in senders/receivers\n",
    "nodes, edges = gt.generate_nodes(region=region_gsi, mindist=0.5, maxdist=2., maxnbr=8)\n",
    "print(\"Number of nodes\", len(nodes.index))\n",
    "print(\"Number of edges\", len(edges.index))"
   ]
  },
  {
   "cell_type": "code",
   "execution_count": 5,
   "metadata": {
    "scrolled": true
   },
   "outputs": [
    {
     "data": {
      "text/html": [
       "<div>\n",
       "<style scoped>\n",
       "    .dataframe tbody tr th:only-of-type {\n",
       "        vertical-align: middle;\n",
       "    }\n",
       "\n",
       "    .dataframe tbody tr th {\n",
       "        vertical-align: top;\n",
       "    }\n",
       "\n",
       "    .dataframe thead th {\n",
       "        text-align: right;\n",
       "    }\n",
       "</style>\n",
       "<table border=\"1\" class=\"dataframe\">\n",
       "  <thead>\n",
       "    <tr style=\"text-align: right;\">\n",
       "      <th></th>\n",
       "      <th>coords</th>\n",
       "      <th>nbrs</th>\n",
       "      <th>coords_km</th>\n",
       "    </tr>\n",
       "  </thead>\n",
       "  <tbody>\n",
       "    <tr>\n",
       "      <th>0</th>\n",
       "      <td>[116.3894407, 39.9062721]</td>\n",
       "      <td>[1, 2, 4, 13, 20, 3, 6, 91]</td>\n",
       "      <td>[9912.526188283888, 4436.678502976904]</td>\n",
       "    </tr>\n",
       "    <tr>\n",
       "      <th>1</th>\n",
       "      <td>[116.3970962, 39.9065222]</td>\n",
       "      <td>[13, 0, 6, 20, 2, 5, 14, 130]</td>\n",
       "      <td>[9913.178183377067, 4436.70630846299]</td>\n",
       "    </tr>\n",
       "    <tr>\n",
       "      <th>2</th>\n",
       "      <td>[116.3898158, 39.8987502]</td>\n",
       "      <td>[0, 20, 50, 3, 1, 57, 4, 130]</td>\n",
       "      <td>[9912.5581343827, 4435.842237140098]</td>\n",
       "    </tr>\n",
       "    <tr>\n",
       "      <th>3</th>\n",
       "      <td>[116.3779918, 39.8987474]</td>\n",
       "      <td>[4, 146, 46, 2, 49, 0, 57, 149]</td>\n",
       "      <td>[9911.55112112664, 4435.841925843172]</td>\n",
       "    </tr>\n",
       "    <tr>\n",
       "      <th>4</th>\n",
       "      <td>[116.3766593, 39.9058516]</td>\n",
       "      <td>[3, 46, 149, 0, 146, 47, 2, 89]</td>\n",
       "      <td>[9911.437636251496, 4436.63175284936]</td>\n",
       "    </tr>\n",
       "  </tbody>\n",
       "</table>\n",
       "</div>"
      ],
      "text/plain": [
       "                      coords                             nbrs  \\\n",
       "0  [116.3894407, 39.9062721]      [1, 2, 4, 13, 20, 3, 6, 91]   \n",
       "1  [116.3970962, 39.9065222]    [13, 0, 6, 20, 2, 5, 14, 130]   \n",
       "2  [116.3898158, 39.8987502]    [0, 20, 50, 3, 1, 57, 4, 130]   \n",
       "3  [116.3779918, 39.8987474]  [4, 146, 46, 2, 49, 0, 57, 149]   \n",
       "4  [116.3766593, 39.9058516]  [3, 46, 149, 0, 146, 47, 2, 89]   \n",
       "\n",
       "                                coords_km  \n",
       "0  [9912.526188283888, 4436.678502976904]  \n",
       "1   [9913.178183377067, 4436.70630846299]  \n",
       "2    [9912.5581343827, 4435.842237140098]  \n",
       "3   [9911.55112112664, 4435.841925843172]  \n",
       "4   [9911.437636251496, 4436.63175284936]  "
      ]
     },
     "execution_count": 5,
     "metadata": {},
     "output_type": "execute_result"
    }
   ],
   "source": [
    "nodes[:5]"
   ]
  },
  {
   "cell_type": "code",
   "execution_count": null,
   "metadata": {
    "collapsed": true,
    "scrolled": false
   },
   "outputs": [],
   "source": [
    "viewer = gt.viewer(nodes,usekm=True)\n",
    "viewer.connect()"
   ]
  },
  {
   "cell_type": "code",
   "execution_count": null,
   "metadata": {
    "collapsed": true
   },
   "outputs": [],
   "source": [
    "# Create snap files\n",
    "# Each snap file should have:\n",
    "# - array of node features\n",
    "# - array of edge features\n",
    "# - array of senders\n",
    "# - array of receivers\n",
    "#\n",
    "# the dataframe is a great setup for this"
   ]
  },
  {
   "cell_type": "code",
   "execution_count": 79,
   "metadata": {},
   "outputs": [
    {
     "data": {
      "text/plain": [
       "<module 'graphtools' from '/home/michael/msc/summer17/traffic/traffic-stgcnn/graphtools.py'>"
      ]
     },
     "execution_count": 79,
     "metadata": {},
     "output_type": "execute_result"
    }
   ],
   "source": [
    "reload(gt)"
   ]
  },
  {
   "cell_type": "code",
   "execution_count": 15,
   "metadata": {
    "scrolled": true
   },
   "outputs": [
    {
     "name": "stdout",
     "output_type": "stream",
     "text": [
      "5000\n"
     ]
    },
    {
     "data": {
      "text/html": [
       "<div>\n",
       "<style scoped>\n",
       "    .dataframe tbody tr th:only-of-type {\n",
       "        vertical-align: middle;\n",
       "    }\n",
       "\n",
       "    .dataframe tbody tr th {\n",
       "        vertical-align: top;\n",
       "    }\n",
       "\n",
       "    .dataframe thead th {\n",
       "        text-align: right;\n",
       "    }\n",
       "</style>\n",
       "<table border=\"1\" class=\"dataframe\">\n",
       "  <thead>\n",
       "    <tr style=\"text-align: right;\">\n",
       "      <th></th>\n",
       "      <th>day</th>\n",
       "      <th>tg</th>\n",
       "      <th>x_km</th>\n",
       "      <th>y_km</th>\n",
       "      <th>vx</th>\n",
       "      <th>vy</th>\n",
       "      <th>v</th>\n",
       "      <th>nodeID</th>\n",
       "      <th>dist2node</th>\n",
       "      <th>angle</th>\n",
       "    </tr>\n",
       "  </thead>\n",
       "  <tbody>\n",
       "    <tr>\n",
       "      <th>0</th>\n",
       "      <td>0</td>\n",
       "      <td>0</td>\n",
       "      <td>9914.82</td>\n",
       "      <td>4432.71</td>\n",
       "      <td>-12.761000</td>\n",
       "      <td>-1.71863</td>\n",
       "      <td>12.87630</td>\n",
       "      <td>154</td>\n",
       "      <td>0.290220</td>\n",
       "      <td>-3.007720</td>\n",
       "    </tr>\n",
       "    <tr>\n",
       "      <th>1</th>\n",
       "      <td>0</td>\n",
       "      <td>0</td>\n",
       "      <td>9914.82</td>\n",
       "      <td>4432.71</td>\n",
       "      <td>-12.761000</td>\n",
       "      <td>-1.71863</td>\n",
       "      <td>12.87630</td>\n",
       "      <td>42</td>\n",
       "      <td>0.672022</td>\n",
       "      <td>-3.007720</td>\n",
       "    </tr>\n",
       "    <tr>\n",
       "      <th>2</th>\n",
       "      <td>0</td>\n",
       "      <td>0</td>\n",
       "      <td>9914.82</td>\n",
       "      <td>4432.71</td>\n",
       "      <td>-12.761000</td>\n",
       "      <td>-1.71863</td>\n",
       "      <td>12.87630</td>\n",
       "      <td>125</td>\n",
       "      <td>0.776102</td>\n",
       "      <td>-3.007720</td>\n",
       "    </tr>\n",
       "    <tr>\n",
       "      <th>3</th>\n",
       "      <td>0</td>\n",
       "      <td>0</td>\n",
       "      <td>9915.32</td>\n",
       "      <td>4436.33</td>\n",
       "      <td>0.936032</td>\n",
       "      <td>2.85485</td>\n",
       "      <td>3.00438</td>\n",
       "      <td>127</td>\n",
       "      <td>0.443865</td>\n",
       "      <td>1.253967</td>\n",
       "    </tr>\n",
       "    <tr>\n",
       "      <th>4</th>\n",
       "      <td>0</td>\n",
       "      <td>0</td>\n",
       "      <td>9915.32</td>\n",
       "      <td>4436.33</td>\n",
       "      <td>0.936032</td>\n",
       "      <td>2.85485</td>\n",
       "      <td>3.00438</td>\n",
       "      <td>10</td>\n",
       "      <td>0.460241</td>\n",
       "      <td>1.253967</td>\n",
       "    </tr>\n",
       "  </tbody>\n",
       "</table>\n",
       "</div>"
      ],
      "text/plain": [
       "  day tg     x_km     y_km         vx       vy         v nodeID  dist2node  \\\n",
       "0   0  0  9914.82  4432.71 -12.761000 -1.71863  12.87630    154   0.290220   \n",
       "1   0  0  9914.82  4432.71 -12.761000 -1.71863  12.87630     42   0.672022   \n",
       "2   0  0  9914.82  4432.71 -12.761000 -1.71863  12.87630    125   0.776102   \n",
       "3   0  0  9915.32  4436.33   0.936032  2.85485   3.00438    127   0.443865   \n",
       "4   0  0  9915.32  4436.33   0.936032  2.85485   3.00438     10   0.460241   \n",
       "\n",
       "      angle  \n",
       "0 -3.007720  \n",
       "1 -3.007720  \n",
       "2 -3.007720  \n",
       "3  1.253967  \n",
       "4  1.253967  "
      ]
     },
     "execution_count": 15,
     "metadata": {},
     "output_type": "execute_result"
    }
   ],
   "source": [
    "# 5000 pts takes about 30 seconds\n",
    "vdf = gt.get_veldf(vfname,nodedf=nodes,days=[],nTG=info[\"nTG\"],nvel=5e3)\n",
    "vdf.drop_duplicates(inplace=True)\n",
    "print(len(vdf.index))\n",
    "\n",
    "vdf[:5]"
   ]
  },
  {
   "cell_type": "code",
   "execution_count": null,
   "metadata": {
    "collapsed": true
   },
   "outputs": [],
   "source": [
    "# We have the vdf function\n",
    "# Need to make an array of node features: the vavg, stddev, etc.\n",
    "# Edge array of...idk\n",
    "# \n",
    "# Iterate over the nodes and see which vels are involved\n",
    "#\n",
    "# Want to prevent rereading velocity file\n",
    "# Note, vel file is not actually ordered because of the\n",
    "# buffer dumping chunks\n",
    "#\n",
    "# Just collect all the velocity data so we can process it as df"
   ]
  },
  {
   "cell_type": "code",
   "execution_count": 12,
   "metadata": {
    "collapsed": true
   },
   "outputs": [],
   "source": [
    "# five files\n",
    "node_fname = \"nn_inputs/node_features\"\n",
    "edge_fname = \"nn_inputs/edge_features\"\n",
    "send_fname = \"nn_inputs/senders\"\n",
    "receive_fname = \"nn_inputs/receivers\"\n",
    "glbl_fname = \"nn_inputs/glbls\""
   ]
  },
  {
   "cell_type": "code",
   "execution_count": 38,
   "metadata": {
    "scrolled": true
   },
   "outputs": [],
   "source": [
    "# Node features:   ncars, v_avg, v_std\n",
    "# Edge features:   ncars, v_avg, v_std, pol (polarity, towards/away)\n",
    "# For edge features, perhaps capture cars that are within +/- pi/4 radians of the edge's line\n",
    "# Don't forget about the cars going in the opposite direction too\n",
    "# Picture a bowtie centered on the edge's \"road line\"\n",
    "# For averaging, do a weighted sum based on dist2node\n",
    "\n",
    "nodes[\"ncar\"] = 0\n",
    "nodes[\"v_avg\"] = 0.\n",
    "nodes[\"v_std\"] = 0.\n",
    "\n",
    "edges[\"ncar\"] = 0\n",
    "edges[\"v_avg_out\"] = 0.\n",
    "edges[\"v_avg_in\"] = 0.\n",
    "edges[\"v_std_out\"] = 0.\n",
    "edges[\"v_std_in\"] = 0.\n",
    "\n",
    "i_edge = 0\n",
    "# for day in range(7):\n",
    "#     for tg in range(info[\"nTG\"]):\n",
    "for day in [0]:\n",
    "    for tg in [0]:\n",
    "        # Get velstats for this day, tg\n",
    "        vdf_ = vdf[(vdf['day']==day) & (vdf['tg']==tg)]\n",
    "        for idx, node in nodes.iterrows():\n",
    "            # Give this subset of vels, calc stats for each node\n",
    "            vels = vdf_[vdf_['nodeID'] == idx]\n",
    "            nodes.at[idx,'ncar'] = len(vels.index)\n",
    "            if len(vels.index) == 0:\n",
    "                continue\n",
    "            nodes.at[idx,'v_avg'] = vels.mean(axis=0)['v']\n",
    "            if len(vels.index) > 1:\n",
    "                nodes.at[idx,'v_std'] = vels.std(axis=0)['v']\n",
    "        \n",
    "            # Iterate over this nodes edges, adding vel stats as necessary\n",
    "            edges_ = edges[edges[\"sender\"] == idx]\n",
    "            for eidx, e in edges_.iterrows():\n",
    "                v_out, v_in = [], []\n",
    "                for iv, v in vels.iterrows():\n",
    "                    dtheta = v['angle'] - e['angle']\n",
    "                    if (abs(dtheta) < 0.25*np.pi) | (abs(dtheta) > 1.75*np.pi):\n",
    "                        v_out.append(v['v'])\n",
    "                    if (abs(dtheta) > np.pi*0.75) & (abs(dtheta) < np.pi*1.25):\n",
    "                        v_in.append(v['v'])\n",
    "                \n",
    "                ncar = len(v_out) + len(v_in)\n",
    "                edges.at[eidx, \"ncar\"] = ncar\n",
    "                if ncar == 0:\n",
    "                    continue\n",
    "                if len(v_out) > 0:\n",
    "                    v_avg_out, v_std_out = np.mean(v_out), np.std(v_out)\n",
    "                    edges.at[eidx, \"v_avg_out\"] = v_avg_out\n",
    "                    edges.at[eidx, \"v_std_out\"] = v_std_out\n",
    "                if len(v_in) > 0:\n",
    "                    v_avg_in, v_std_in = np.mean(v_in), np.std(v_in)\n",
    "                    edges.at[eidx, \"v_avg_in\"] = v_avg_in\n",
    "                    edges.at[eidx, \"v_std_in\"] = v_std_in\n",
    "                \n",
    "                \n",
    "            "
   ]
  },
  {
   "cell_type": "code",
   "execution_count": 43,
   "metadata": {},
   "outputs": [
    {
     "data": {
      "text/plain": [
       "82"
      ]
     },
     "execution_count": 43,
     "metadata": {},
     "output_type": "execute_result"
    }
   ],
   "source": [
    "len(live_edges.index)"
   ]
  },
  {
   "cell_type": "code",
   "execution_count": 40,
   "metadata": {
    "collapsed": true
   },
   "outputs": [],
   "source": [
    "live_edges = edges[edges[\"ncar\"] > 0]"
   ]
  },
  {
   "cell_type": "code",
   "execution_count": 42,
   "metadata": {},
   "outputs": [
    {
     "data": {
      "text/plain": [
       "sender       129294.000000\n",
       "receiver     130275.000000\n",
       "angle          -127.203041\n",
       "ncar             98.000000\n",
       "v_avg_out       441.129200\n",
       "v_avg_in        396.381830\n",
       "v_std_out        25.316010\n",
       "v_std_in         19.690230\n",
       "dtype: float64"
      ]
     },
     "execution_count": 42,
     "metadata": {},
     "output_type": "execute_result"
    }
   ],
   "source": [
    "edges.sum(axis=0)"
   ]
  },
  {
   "cell_type": "code",
   "execution_count": 29,
   "metadata": {},
   "outputs": [
    {
     "data": {
      "text/plain": [
       "0"
      ]
     },
     "execution_count": 29,
     "metadata": {},
     "output_type": "execute_result"
    }
   ],
   "source": [
    "len(live_edges.index)"
   ]
  }
 ],
 "metadata": {
  "kernelspec": {
   "display_name": "Python 3",
   "language": "python",
   "name": "python3"
  },
  "language_info": {
   "codemirror_mode": {
    "name": "ipython",
    "version": 3
   },
   "file_extension": ".py",
   "mimetype": "text/x-python",
   "name": "python",
   "nbconvert_exporter": "python",
   "pygments_lexer": "ipython3",
   "version": "3.5.2"
  }
 },
 "nbformat": 4,
 "nbformat_minor": 2
}

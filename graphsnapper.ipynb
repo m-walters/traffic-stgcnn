{
 "cells": [
  {
   "cell_type": "code",
   "execution_count": 1,
   "metadata": {},
   "outputs": [],
   "source": [
    "import numpy as np\n",
    "import graphtools as gt\n",
    "from importlib import reload\n",
    "import pandas as pd\n",
    "import matplotlib as plt\n",
    "\n",
    "%matplotlib notebook"
   ]
  },
  {
   "cell_type": "code",
   "execution_count": 5,
   "metadata": {},
   "outputs": [
    {
     "name": "stdout",
     "output_type": "stream",
     "text": [
      "Creating info dict\n",
      "nTG \t 144\n",
      "n_drivers \t 189515\n",
      "n_points \t 370404\n",
      "source \t /home/michael/msc/summer17/traffic/data/OUT0_FiveRing150buffer\n",
      "tcutoff \t 1.0\n",
      "tglen \t 10\n",
      "velmin \t 0.0\n",
      "xmax \t 9917.53639401\n",
      "xmin \t 9907.53639399\n",
      "ymax \t 4443.05976788\n",
      "ymin \t 4431.05976788\n"
     ]
    }
   ],
   "source": [
    "# Hyperparams\n",
    "vfname = \"veldata/secondring\"\n",
    "info = {}\n",
    "infofname = vfname+\".info\"\n",
    "print(\"Creating info dict\")\n",
    "info = gt.get_info_dict(infofname)\n",
    "for key,val in sorted(info.items()):\n",
    "    print(key,\"\\t\",val)"
   ]
  },
  {
   "cell_type": "code",
   "execution_count": 6,
   "metadata": {},
   "outputs": [
    {
     "name": "stdout",
     "output_type": "stream",
     "text": [
      "Number of nodes 135\n"
     ]
    },
    {
     "data": {
      "text/html": [
       "<div>\n",
       "<style scoped>\n",
       "    .dataframe tbody tr th:only-of-type {\n",
       "        vertical-align: middle;\n",
       "    }\n",
       "\n",
       "    .dataframe tbody tr th {\n",
       "        vertical-align: top;\n",
       "    }\n",
       "\n",
       "    .dataframe thead th {\n",
       "        text-align: right;\n",
       "    }\n",
       "</style>\n",
       "<table border=\"1\" class=\"dataframe\">\n",
       "  <thead>\n",
       "    <tr style=\"text-align: right;\">\n",
       "      <th></th>\n",
       "      <th>coords</th>\n",
       "      <th>nbrs</th>\n",
       "      <th>coords_km</th>\n",
       "    </tr>\n",
       "  </thead>\n",
       "  <tbody>\n",
       "    <tr>\n",
       "      <th>137</th>\n",
       "      <td>[116.3672434, 39.9226143]</td>\n",
       "      <td>[397, 353, 703, 704, 705, 320, 317, 872, 321, ...</td>\n",
       "      <td>[9910.635713372798, 4438.495387481918]</td>\n",
       "    </tr>\n",
       "    <tr>\n",
       "      <th>142</th>\n",
       "      <td>[116.3903093, 39.9269964]</td>\n",
       "      <td>[774, 355, 1074, 1075, 1073, 1070, 143, 1071, ...</td>\n",
       "      <td>[9912.600164240774, 4438.982578287894]</td>\n",
       "    </tr>\n",
       "    <tr>\n",
       "      <th>169</th>\n",
       "      <td>[116.4447293, 39.8748632]</td>\n",
       "      <td>[376, 170, 1042, 1040, 1041, 388, 1038, 1039, ...</td>\n",
       "      <td>[9917.234946158464, 4433.186540834137]</td>\n",
       "    </tr>\n",
       "  </tbody>\n",
       "</table>\n",
       "</div>"
      ],
      "text/plain": [
       "                        coords  \\\n",
       "137  [116.3672434, 39.9226143]   \n",
       "142  [116.3903093, 39.9269964]   \n",
       "169  [116.4447293, 39.8748632]   \n",
       "\n",
       "                                              nbrs  \\\n",
       "137  [397, 353, 703, 704, 705, 320, 317, 872, 321, ...   \n",
       "142  [774, 355, 1074, 1075, 1073, 1070, 143, 1071, ...   \n",
       "169  [376, 170, 1042, 1040, 1041, 388, 1038, 1039, ...   \n",
       "\n",
       "                                  coords_km  \n",
       "137  [9910.635713372798, 4438.495387481918]  \n",
       "142  [9912.600164240774, 4438.982578287894]  \n",
       "169  [9917.234946158464, 4433.186540834137]  "
      ]
     },
     "execution_count": 6,
     "metadata": {},
     "output_type": "execute_result"
    }
   ],
   "source": [
    "# Gather nodes\n",
    "xmin,xmax = vinfo[\"xmin\"]/gt.long2km, info[\"xmax\"]/gt.long2km\n",
    "ymin,ymax = vinfo[\"ymin\"]/gt.lat2km, info[\"ymax\"]/gt.lat2km\n",
    "region_gsi = [xmin,xmax,ymin,ymax]\n",
    "nodes = gt.generate_nodes(region=region_gsi, mindist=0.5, maxdist=2., maxnbr=1e7)\n",
    "print(\"Number of nodes\", len(nodes.index))\n",
    "nodes[:3]"
   ]
  },
  {
   "cell_type": "code",
   "execution_count": null,
   "metadata": {
    "collapsed": true
   },
   "outputs": [],
   "source": [
    "# Create snap files\n",
    "# Each snap file should have:\n",
    "# - array of node features\n",
    "# - array of edge features\n",
    "# - array of senders\n",
    "# - array of receivers\n",
    "#\n",
    "# the dataframe is a great setup for this"
   ]
  },
  {
   "cell_type": "code",
   "execution_count": null,
   "metadata": {},
   "outputs": [],
   "source": [
    "vdf = gt.get_veldf(vfname,days=[], nTG=vinfo[\"nTG\"], nvel=1e4)\n",
    "print(len(vdf.index))"
   ]
  },
  {
   "cell_type": "code",
   "execution_count": null,
   "metadata": {
    "collapsed": true
   },
   "outputs": [],
   "source": [
    "# We have the vdf function\n",
    "# Need a "
   ]
  }
 ],
 "metadata": {
  "kernelspec": {
   "display_name": "Python 3",
   "language": "python",
   "name": "python3"
  },
  "language_info": {
   "codemirror_mode": {
    "name": "ipython",
    "version": 3
   },
   "file_extension": ".py",
   "mimetype": "text/x-python",
   "name": "python",
   "nbconvert_exporter": "python",
   "pygments_lexer": "ipython3",
   "version": "3.5.2"
  }
 },
 "nbformat": 4,
 "nbformat_minor": 2
}

{
 "cells": [
  {
   "cell_type": "code",
   "execution_count": 1,
   "metadata": {},
   "outputs": [
    {
     "name": "stderr",
     "output_type": "stream",
     "text": [
      "/usr/local/lib/python3.5/dist-packages/ipykernel_launcher.py:6: TqdmExperimentalWarning: Using `tqdm.autonotebook.tqdm` in notebook mode. Use `tqdm.tqdm` instead to force console mode (e.g. in jupyter console)\n",
      "  \n"
     ]
    }
   ],
   "source": [
    "import numpy as np\n",
    "import graphtools as gt\n",
    "from importlib import reload\n",
    "import pandas as pd\n",
    "import matplotlib as plt\n",
    "from tqdm.autonotebook import tqdm, trange\n",
    "import time\n",
    "\n",
    "%matplotlib notebook"
   ]
  },
  {
   "cell_type": "code",
   "execution_count": 2,
   "metadata": {},
   "outputs": [
    {
     "name": "stdout",
     "output_type": "stream",
     "text": [
      "Creating info dict\n",
      "nTG \t 144\n",
      "n_drivers \t 189515\n",
      "n_points \t 149165\n",
      "source \t /home/walterms/traffic/OUT0_FiveRing150buffer\n",
      "tcutoff \t 1.0\n",
      "tglen \t 10\n",
      "velmin \t 1.0\n",
      "xmax \t 9917.53639401\n",
      "xmin \t 9907.53639399\n",
      "ymax \t 4443.05976788\n",
      "ymin \t 4431.05976788\n"
     ]
    }
   ],
   "source": [
    "# Hyperparams\n",
    "vfname = \"veldata/secondring_t1.0v1.0l10\"\n",
    "info = {}\n",
    "infofname = vfname+\".info\"\n",
    "print(\"Creating info dict\")\n",
    "info = gt.get_info_dict(infofname)\n",
    "for key,val in sorted(info.items()):\n",
    "    print(key,\"\\t\",val)"
   ]
  },
  {
   "cell_type": "code",
   "execution_count": 3,
   "metadata": {},
   "outputs": [
    {
     "name": "stdout",
     "output_type": "stream",
     "text": [
      "Number of nodes 181\n",
      "Number of edges 1438\n"
     ]
    }
   ],
   "source": [
    "# Gather nodes\n",
    "xmin,xmax = info[\"xmin\"]/gt.long2km, info[\"xmax\"]/gt.long2km\n",
    "ymin,ymax = info[\"ymin\"]/gt.lat2km, info[\"ymax\"]/gt.lat2km\n",
    "region_gsi = [xmin,xmax,ymin,ymax]\n",
    "# A combines edges and connections to their idx in senders/receivers\n",
    "nodes, edges = gt.generate_nodes(region=region_gsi, mindist=0.5, maxdist=2., maxnbr=8)\n",
    "\n",
    "n_nodes, n_edges = len(nodes.index), len(edges.index)\n",
    "print(\"Number of nodes\", n_nodes)\n",
    "print(\"Number of edges\", n_edges)"
   ]
  },
  {
   "cell_type": "code",
   "execution_count": 4,
   "metadata": {
    "scrolled": true
   },
   "outputs": [
    {
     "name": "stdout",
     "output_type": "stream",
     "text": [
      "1000\n"
     ]
    }
   ],
   "source": [
    "# 5000 pts takes about 30 seconds\n",
    "vdf = gt.get_veldf(vfname,nodedf=nodes,days=[],nTG=info[\"nTG\"],nvel=1e3)\n",
    "vdf.drop_duplicates(inplace=True)\n",
    "print(len(vdf.index))"
   ]
  },
  {
   "cell_type": "code",
   "execution_count": 5,
   "metadata": {
    "collapsed": true
   },
   "outputs": [],
   "source": [
    "# five files\n",
    "node_fname = \"nn_inputs/node_features\"\n",
    "edge_fname = \"nn_inputs/edge_features\"\n",
    "send_fname = \"nn_inputs/senders\"\n",
    "receive_fname = \"nn_inputs/receivers\"\n",
    "glbl_fname = \"nn_inputs/glbls\""
   ]
  },
  {
   "cell_type": "code",
   "execution_count": 52,
   "metadata": {
    "collapsed": true
   },
   "outputs": [],
   "source": [
    "import time"
   ]
  },
  {
   "cell_type": "code",
   "execution_count": 10,
   "metadata": {
    "scrolled": true
   },
   "outputs": [
    {
     "name": "stderr",
     "output_type": "stream",
     "text": [
      "/usr/local/lib/python3.5/dist-packages/ipykernel_launcher.py:27: TqdmDeprecationWarning: Please use `tqdm.notebook.trange` instead of `tqdm.tnrange`\n"
     ]
    },
    {
     "data": {
      "application/vnd.jupyter.widget-view+json": {
       "model_id": "73e71e9e7a6340d2a4f7699099a9f436",
       "version_major": 2,
       "version_minor": 0
      },
      "text/plain": [
       "HBox(children=(IntProgress(value=0, description='Day', max=7, style=ProgressStyle(description_width='initial')…"
      ]
     },
     "metadata": {},
     "output_type": "display_data"
    },
    {
     "name": "stderr",
     "output_type": "stream",
     "text": [
      "/usr/local/lib/python3.5/dist-packages/ipykernel_launcher.py:28: TqdmDeprecationWarning: Please use `tqdm.notebook.trange` instead of `tqdm.tnrange`\n"
     ]
    },
    {
     "data": {
      "application/vnd.jupyter.widget-view+json": {
       "model_id": "69570075566c41919590143bc3895803",
       "version_major": 2,
       "version_minor": 0
      },
      "text/plain": [
       "HBox(children=(IntProgress(value=0, description='TG ', max=144, style=ProgressStyle(description_width='initial…"
      ]
     },
     "metadata": {},
     "output_type": "display_data"
    },
    {
     "ename": "KeyboardInterrupt",
     "evalue": "",
     "output_type": "error",
     "traceback": [
      "\u001b[0;31m-----------------------------------------------------------------------\u001b[0m",
      "\u001b[0;31mKeyboardInterrupt\u001b[0m                     Traceback (most recent call last)",
      "\u001b[0;32m<ipython-input-10-b0d41f17d7e5>\u001b[0m in \u001b[0;36m<module>\u001b[0;34m\u001b[0m\n\u001b[1;32m     33\u001b[0m         \u001b[0;32mfor\u001b[0m \u001b[0midx\u001b[0m\u001b[0;34m,\u001b[0m \u001b[0mnode\u001b[0m \u001b[0;32min\u001b[0m \u001b[0mnodes\u001b[0m\u001b[0;34m.\u001b[0m\u001b[0miterrows\u001b[0m\u001b[0;34m(\u001b[0m\u001b[0;34m)\u001b[0m\u001b[0;34m:\u001b[0m\u001b[0;34m\u001b[0m\u001b[0m\n\u001b[1;32m     34\u001b[0m             \u001b[0;31m# Give this subset of vels, calc stats for each node\u001b[0m\u001b[0;34m\u001b[0m\u001b[0;34m\u001b[0m\u001b[0m\n\u001b[0;32m---> 35\u001b[0;31m             \u001b[0mvels\u001b[0m \u001b[0;34m=\u001b[0m \u001b[0mvdf_\u001b[0m\u001b[0;34m[\u001b[0m\u001b[0mvdf_\u001b[0m\u001b[0;34m[\u001b[0m\u001b[0;34m'nodeID'\u001b[0m\u001b[0;34m]\u001b[0m \u001b[0;34m==\u001b[0m \u001b[0midx\u001b[0m\u001b[0;34m]\u001b[0m\u001b[0;34m\u001b[0m\u001b[0m\n\u001b[0m\u001b[1;32m     36\u001b[0m             \u001b[0mnodes\u001b[0m\u001b[0;34m.\u001b[0m\u001b[0mat\u001b[0m\u001b[0;34m[\u001b[0m\u001b[0midx\u001b[0m\u001b[0;34m,\u001b[0m\u001b[0;34m'ncar'\u001b[0m\u001b[0;34m]\u001b[0m \u001b[0;34m=\u001b[0m \u001b[0mlen\u001b[0m\u001b[0;34m(\u001b[0m\u001b[0mvels\u001b[0m\u001b[0;34m.\u001b[0m\u001b[0mindex\u001b[0m\u001b[0;34m)\u001b[0m\u001b[0;34m\u001b[0m\u001b[0m\n\u001b[1;32m     37\u001b[0m             \u001b[0;32mif\u001b[0m \u001b[0mlen\u001b[0m\u001b[0;34m(\u001b[0m\u001b[0mvels\u001b[0m\u001b[0;34m.\u001b[0m\u001b[0mindex\u001b[0m\u001b[0;34m)\u001b[0m \u001b[0;34m==\u001b[0m \u001b[0;36m0\u001b[0m\u001b[0;34m:\u001b[0m\u001b[0;34m\u001b[0m\u001b[0m\n",
      "\u001b[0;32m/usr/local/lib/python3.5/dist-packages/pandas/core/ops.py\u001b[0m in \u001b[0;36mwrapper\u001b[0;34m(self, other, axis)\u001b[0m\n\u001b[1;32m   1772\u001b[0m             \u001b[0mres_values\u001b[0m \u001b[0;34m=\u001b[0m \u001b[0mcom\u001b[0m\u001b[0;34m.\u001b[0m\u001b[0mvalues_from_object\u001b[0m\u001b[0;34m(\u001b[0m\u001b[0mres\u001b[0m\u001b[0;34m)\u001b[0m\u001b[0;34m\u001b[0m\u001b[0m\n\u001b[1;32m   1773\u001b[0m             return self._constructor(res_values, index=self.index,\n\u001b[0;32m-> 1774\u001b[0;31m                                      name=res_name, dtype='bool')\n\u001b[0m\u001b[1;32m   1775\u001b[0m \u001b[0;34m\u001b[0m\u001b[0m\n\u001b[1;32m   1776\u001b[0m     \u001b[0mwrapper\u001b[0m\u001b[0;34m.\u001b[0m\u001b[0m__name__\u001b[0m \u001b[0;34m=\u001b[0m \u001b[0mop_name\u001b[0m\u001b[0;34m\u001b[0m\u001b[0m\n",
      "\u001b[0;32m/usr/local/lib/python3.5/dist-packages/pandas/core/series.py\u001b[0m in \u001b[0;36m__init__\u001b[0;34m(self, data, index, dtype, name, copy, fastpath)\u001b[0m\n\u001b[1;32m    172\u001b[0m                 \u001b[0mdata\u001b[0m \u001b[0;34m=\u001b[0m \u001b[0;34m{\u001b[0m\u001b[0;34m}\u001b[0m\u001b[0;34m\u001b[0m\u001b[0m\n\u001b[1;32m    173\u001b[0m             \u001b[0;32mif\u001b[0m \u001b[0mdtype\u001b[0m \u001b[0;32mis\u001b[0m \u001b[0;32mnot\u001b[0m \u001b[0;32mNone\u001b[0m\u001b[0;34m:\u001b[0m\u001b[0;34m\u001b[0m\u001b[0m\n\u001b[0;32m--> 174\u001b[0;31m                 \u001b[0mdtype\u001b[0m \u001b[0;34m=\u001b[0m \u001b[0mself\u001b[0m\u001b[0;34m.\u001b[0m\u001b[0m_validate_dtype\u001b[0m\u001b[0;34m(\u001b[0m\u001b[0mdtype\u001b[0m\u001b[0;34m)\u001b[0m\u001b[0;34m\u001b[0m\u001b[0m\n\u001b[0m\u001b[1;32m    175\u001b[0m \u001b[0;34m\u001b[0m\u001b[0m\n\u001b[1;32m    176\u001b[0m             \u001b[0;32mif\u001b[0m \u001b[0misinstance\u001b[0m\u001b[0;34m(\u001b[0m\u001b[0mdata\u001b[0m\u001b[0;34m,\u001b[0m \u001b[0mMultiIndex\u001b[0m\u001b[0;34m)\u001b[0m\u001b[0;34m:\u001b[0m\u001b[0;34m\u001b[0m\u001b[0m\n",
      "\u001b[0;32m/usr/local/lib/python3.5/dist-packages/pandas/core/generic.py\u001b[0m in \u001b[0;36m_validate_dtype\u001b[0;34m(self, dtype)\u001b[0m\n\u001b[1;32m    180\u001b[0m \u001b[0;34m\u001b[0m\u001b[0m\n\u001b[1;32m    181\u001b[0m         \u001b[0;32mif\u001b[0m \u001b[0mdtype\u001b[0m \u001b[0;32mis\u001b[0m \u001b[0;32mnot\u001b[0m \u001b[0;32mNone\u001b[0m\u001b[0;34m:\u001b[0m\u001b[0;34m\u001b[0m\u001b[0m\n\u001b[0;32m--> 182\u001b[0;31m             \u001b[0mdtype\u001b[0m \u001b[0;34m=\u001b[0m \u001b[0mpandas_dtype\u001b[0m\u001b[0;34m(\u001b[0m\u001b[0mdtype\u001b[0m\u001b[0;34m)\u001b[0m\u001b[0;34m\u001b[0m\u001b[0m\n\u001b[0m\u001b[1;32m    183\u001b[0m \u001b[0;34m\u001b[0m\u001b[0m\n\u001b[1;32m    184\u001b[0m             \u001b[0;31m# a compound dtype\u001b[0m\u001b[0;34m\u001b[0m\u001b[0;34m\u001b[0m\u001b[0m\n",
      "\u001b[0;32m/usr/local/lib/python3.5/dist-packages/pandas/core/dtypes/common.py\u001b[0m in \u001b[0;36mpandas_dtype\u001b[0;34m(dtype)\u001b[0m\n\u001b[1;32m   2002\u001b[0m \u001b[0;34m\u001b[0m\u001b[0m\n\u001b[1;32m   2003\u001b[0m     \u001b[0;31m# registered extension types\u001b[0m\u001b[0;34m\u001b[0m\u001b[0;34m\u001b[0m\u001b[0m\n\u001b[0;32m-> 2004\u001b[0;31m     \u001b[0mresult\u001b[0m \u001b[0;34m=\u001b[0m \u001b[0mregistry\u001b[0m\u001b[0;34m.\u001b[0m\u001b[0mfind\u001b[0m\u001b[0;34m(\u001b[0m\u001b[0mdtype\u001b[0m\u001b[0;34m)\u001b[0m\u001b[0;34m\u001b[0m\u001b[0m\n\u001b[0m\u001b[1;32m   2005\u001b[0m     \u001b[0;32mif\u001b[0m \u001b[0mresult\u001b[0m \u001b[0;32mis\u001b[0m \u001b[0;32mnot\u001b[0m \u001b[0;32mNone\u001b[0m\u001b[0;34m:\u001b[0m\u001b[0;34m\u001b[0m\u001b[0m\n\u001b[1;32m   2006\u001b[0m         \u001b[0;32mreturn\u001b[0m \u001b[0mresult\u001b[0m\u001b[0;34m\u001b[0m\u001b[0m\n",
      "\u001b[0;32m/usr/local/lib/python3.5/dist-packages/pandas/core/dtypes/dtypes.py\u001b[0m in \u001b[0;36mfind\u001b[0;34m(self, dtype)\u001b[0m\n\u001b[1;32m     85\u001b[0m             \u001b[0;32mreturn\u001b[0m \u001b[0;32mNone\u001b[0m\u001b[0;34m\u001b[0m\u001b[0m\n\u001b[1;32m     86\u001b[0m \u001b[0;34m\u001b[0m\u001b[0m\n\u001b[0;32m---> 87\u001b[0;31m         \u001b[0;32mfor\u001b[0m \u001b[0mdtype_type\u001b[0m \u001b[0;32min\u001b[0m \u001b[0mself\u001b[0m\u001b[0;34m.\u001b[0m\u001b[0mdtypes\u001b[0m\u001b[0;34m:\u001b[0m\u001b[0;34m\u001b[0m\u001b[0m\n\u001b[0m\u001b[1;32m     88\u001b[0m             \u001b[0;32mtry\u001b[0m\u001b[0;34m:\u001b[0m\u001b[0;34m\u001b[0m\u001b[0m\n\u001b[1;32m     89\u001b[0m                 \u001b[0;32mreturn\u001b[0m \u001b[0mdtype_type\u001b[0m\u001b[0;34m.\u001b[0m\u001b[0mconstruct_from_string\u001b[0m\u001b[0;34m(\u001b[0m\u001b[0mdtype\u001b[0m\u001b[0;34m)\u001b[0m\u001b[0;34m\u001b[0m\u001b[0m\n",
      "\u001b[0;31mKeyboardInterrupt\u001b[0m: "
     ]
    }
   ],
   "source": [
    "# Node features:   ncars, v_avg, v_std\n",
    "# Edge features:   ncars, v_avg, v_std, pol (polarity, towards/away)\n",
    "# For edge features, perhaps capture cars that are within +/- pi/4 radians of the edge's line\n",
    "# Don't forget about the cars going in the opposite direction too\n",
    "# Picture a bowtie centered on the edge's \"road line\"\n",
    "# For averaging, do a weighted sum based on dist2node\n",
    "\n",
    "nodes[\"ncar\"] = 0\n",
    "nodes[\"v_avg\"] = 0.\n",
    "nodes[\"v_std\"] = 0.\n",
    "\n",
    "edges[\"ncar_out\"] = 0\n",
    "edges[\"ncar_in\"] = 0\n",
    "edges[\"v_avg_out\"] = 0.\n",
    "edges[\"v_avg_in\"] = 0.\n",
    "edges[\"v_std_out\"] = 0.\n",
    "edges[\"v_std_in\"] = 0.\n",
    "\n",
    "nsnap = 7*info[\"nTG\"]\n",
    "node_feat_arr = np.zeros(shape=(nsnap, n_nodes, 3), dtype=np.float)\n",
    "edge_feat_arr = np.zeros(shape=(nsnap, n_edges, 6), dtype=np.float)\n",
    "send_arr = edges[[\"sender\"]].to_numpy(dtype=np.float).reshape((n_edges))\n",
    "rece_arr = edges[[\"receiver\"]].to_numpy(dtype=np.float).reshape((n_edges))\n",
    "glbl_arr = np.zeros(shape=(nsnap,2), dtype=np.float)\n",
    "\n",
    "i_edge = 0\n",
    "for day in tnrange(7, desc=\"Day\"):\n",
    "    for tg in tnrange(info[\"nTG\"],desc=\"TG \"):\n",
    "# for day in [0]:\n",
    "#     for tg in [1]:\n",
    "        # Get velstats for this day, tg\n",
    "        vdf_ = vdf[(vdf['day']==day) & (vdf['tg']==tg)]\n",
    "        for idx, node in nodes.iterrows():\n",
    "            # Give this subset of vels, calc stats for each node\n",
    "            vels = vdf_[vdf_['nodeID'] == idx]\n",
    "            nodes.at[idx,'ncar'] = len(vels.index)\n",
    "            if len(vels.index) == 0:\n",
    "                continue\n",
    "            nodes.at[idx,'v_avg'] = vels.mean(axis=0)['v']\n",
    "            if len(vels.index) > 1:\n",
    "                nodes.at[idx,'v_std'] = vels.std(axis=0)['v']\n",
    "        \n",
    "            # Iterate over this nodes edges, adding vel stats as necessary\n",
    "            edges_ = edges[edges[\"sender\"] == idx]\n",
    "            for eidx, e in edges_.iterrows():\n",
    "                v_out, v_in = [], []\n",
    "                for iv, v in vels.iterrows():\n",
    "                    dtheta = v['angle'] - e['angle']\n",
    "                    if (abs(dtheta) < 0.25*np.pi) | (abs(dtheta) > 1.75*np.pi):\n",
    "                        v_out.append(v['v'])\n",
    "                    if (abs(dtheta) > np.pi*0.75) & (abs(dtheta) < np.pi*1.25):\n",
    "                        v_in.append(v['v'])\n",
    "                \n",
    "                if len(v_out) > 0:\n",
    "                    edges.at[eidx, \"ncar_out\"] = len(v_out)\n",
    "                    v_avg_out, v_std_out = np.mean(v_out), np.std(v_out)\n",
    "                    edges.at[eidx, \"v_avg_out\"] = v_avg_out\n",
    "                    edges.at[eidx, \"v_std_out\"] = v_std_out\n",
    "                if len(v_in) > 0:\n",
    "                    edges.at[eidx, \"ncar_in\"] = len(v_in)\n",
    "                    v_avg_in, v_std_in = np.mean(v_in), np.std(v_in)\n",
    "                    edges.at[eidx, \"v_avg_in\"] = v_avg_in\n",
    "                    edges.at[eidx, \"v_std_in\"] = v_std_in\n",
    "                    \n",
    "        # Add to arrays\n",
    "        isnap = (day*info[\"nTG\"]) + tg\n",
    "        node_feat_arr[isnap] = nodes[[\"ncar\",\"v_avg\",\"v_std\"]].to_numpy()\n",
    "        edge_feat_arr[isnap] = edges[[\"ncar_out\",\"v_avg_out\",\"v_std_out\",\n",
    "                                      \"ncar_in\",\"v_avg_in\",\"v_std_in\"]].to_numpy()\n",
    "        glbl_arr[isnap] = np.array([day,tg])\n",
    "        \n",
    "    print(\"Done writing day\",day)\n",
    "\n",
    "print(\"Saving\",node_fname)\n",
    "np.save(node_fname, node_feat_arr)\n",
    "print(\"Saving\",edge_fname)\n",
    "np.save(edge_fname, edge_feat_arr)\n",
    "print(\"Saving\",send_fname)\n",
    "np.save(send_fname, send_arr)\n",
    "print(\"Saving\",receive_fname)\n",
    "np.save(receive_fname, rece_arr)\n",
    "\n",
    "# Clear memory\n",
    "del node_feat_arr, edge_feat_arr, send_arr, rece_arr"
   ]
  },
  {
   "cell_type": "code",
   "execution_count": null,
   "metadata": {
    "collapsed": true
   },
   "outputs": [],
   "source": []
  }
 ],
 "metadata": {
  "kernelspec": {
   "display_name": "Python 3",
   "language": "python",
   "name": "python3"
  },
  "language_info": {
   "codemirror_mode": {
    "name": "ipython",
    "version": 3
   },
   "file_extension": ".py",
   "mimetype": "text/x-python",
   "name": "python",
   "nbconvert_exporter": "python",
   "pygments_lexer": "ipython3",
   "version": "3.5.2"
  }
 },
 "nbformat": 4,
 "nbformat_minor": 2
}

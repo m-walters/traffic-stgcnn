{
 "cells": [
  {
   "cell_type": "code",
   "execution_count": null,
   "metadata": {
    "collapsed": true
   },
   "outputs": [],
   "source": [
    "import numpy as np\n",
    "import graphtools as gt\n",
    "from importlib import reload\n",
    "import pandas as pd\n",
    "import matplotlib as plt\n",
    "\n",
    "%matplotlib notebook"
   ]
  },
  {
   "cell_type": "code",
   "execution_count": null,
   "metadata": {},
   "outputs": [],
   "source": [
    "# Hyperparams\n",
    "vfname = \"veldata/secondring_t1.0v1.0l10\"\n",
    "info = {}\n",
    "infofname = vfname+\".info\"\n",
    "print(\"Creating info dict\")\n",
    "info = gt.get_info_dict(infofname)\n",
    "for key,val in sorted(info.items()):\n",
    "    print(key,\"\\t\",val)"
   ]
  },
  {
   "cell_type": "code",
   "execution_count": null,
   "metadata": {},
   "outputs": [],
   "source": [
    "reload(gt)"
   ]
  },
  {
   "cell_type": "code",
   "execution_count": null,
   "metadata": {},
   "outputs": [],
   "source": [
    "# Gather nodes\n",
    "xmin,xmax = info[\"xmin\"]/gt.long2km, info[\"xmax\"]/gt.long2km\n",
    "ymin,ymax = info[\"ymin\"]/gt.lat2km, info[\"ymax\"]/gt.lat2km\n",
    "region_gsi = [xmin,xmax,ymin,ymax]\n",
    "# A combines edges and connections to their idx in senders/receivers\n",
    "nodes, edges = gt.generate_nodes(region=region_gsi, mindist=0.5, maxdist=2., maxnbr=8)\n",
    "\n",
    "n_nodes, n_edges = len(nodes.index), len(edges.index)\n",
    "print(\"Number of nodes\", n_nodes)\n",
    "print(\"Number of edges\", n_edges)"
   ]
  },
  {
   "cell_type": "code",
   "execution_count": null,
   "metadata": {
    "scrolled": true
   },
   "outputs": [],
   "source": [
    "# 5000 pts takes about 30 seconds\n",
    "vdf = gt.get_veldf(vfname,nodedf=nodes,days=[],nTG=info[\"nTG\"])\n",
    "vdf.drop_duplicates(inplace=True)\n",
    "print(len(vdf.index))"
   ]
  },
  {
   "cell_type": "code",
   "execution_count": null,
   "metadata": {
    "collapsed": true
   },
   "outputs": [],
   "source": [
    "# five files\n",
    "node_fname = \"nn_inputs/node_features\"\n",
    "edge_fname = \"nn_inputs/edge_features\"\n",
    "send_fname = \"nn_inputs/senders\"\n",
    "receive_fname = \"nn_inputs/receivers\"\n",
    "glbl_fname = \"nn_inputs/glbls\""
   ]
  },
  {
   "cell_type": "code",
   "execution_count": null,
   "metadata": {
    "scrolled": true
   },
   "outputs": [],
   "source": [
    "# Node features:   ncars, v_avg, v_std\n",
    "# Edge features:   ncars, v_avg, v_std, pol (polarity, towards/away)\n",
    "# For edge features, perhaps capture cars that are within +/- pi/4 radians of the edge's line\n",
    "# Don't forget about the cars going in the opposite direction too\n",
    "# Picture a bowtie centered on the edge's \"road line\"\n",
    "# For averaging, do a weighted sum based on dist2node\n",
    "\n",
    "nodes[\"ncar\"] = 0\n",
    "nodes[\"v_avg\"] = 0.\n",
    "nodes[\"v_std\"] = 0.\n",
    "\n",
    "edges[\"ncar_out\"] = 0\n",
    "edges[\"ncar_in\"] = 0\n",
    "edges[\"v_avg_out\"] = 0.\n",
    "edges[\"v_avg_in\"] = 0.\n",
    "edges[\"v_std_out\"] = 0.\n",
    "edges[\"v_std_in\"] = 0.\n",
    "\n",
    "nsnap = 7*info[\"nTG\"]\n",
    "node_feat_arr = np.zeros(shape=(nsnap, n_nodes, 3), dtype=np.float)\n",
    "edge_feat_arr = np.zeros(shape=(nsnap, n_edges, 6), dtype=np.float)\n",
    "send_arr = edges[[\"sender\"]].to_numpy(dtype=np.float).reshape((n_edges))\n",
    "rece_arr = edges[[\"receiver\"]].to_numpy(dtype=np.float).reshape((n_edges))\n",
    "glbl_arr = np.zeros(shape=(nsnap,2), dtype=np.float)\n",
    "\n",
    "i_edge = 0\n",
    "for day in range(7):\n",
    "    for tg in range(info[\"nTG\"]):\n",
    "# for day in [0]:\n",
    "#     for tg in [1]:\n",
    "        # Get velstats for this day, tg\n",
    "        vdf_ = vdf[(vdf['day']==day) & (vdf['tg']==tg)]\n",
    "        for idx, node in nodes.iterrows():\n",
    "            # Give this subset of vels, calc stats for each node\n",
    "            vels = vdf_[vdf_['nodeID'] == idx]\n",
    "            nodes.at[idx,'ncar'] = len(vels.index)\n",
    "            if len(vels.index) == 0:\n",
    "                continue\n",
    "            nodes.at[idx,'v_avg'] = vels.mean(axis=0)['v']\n",
    "            if len(vels.index) > 1:\n",
    "                nodes.at[idx,'v_std'] = vels.std(axis=0)['v']\n",
    "        \n",
    "            # Iterate over this nodes edges, adding vel stats as necessary\n",
    "            edges_ = edges[edges[\"sender\"] == idx]\n",
    "            for eidx, e in edges_.iterrows():\n",
    "                v_out, v_in = [], []\n",
    "                for iv, v in vels.iterrows():\n",
    "                    dtheta = v['angle'] - e['angle']\n",
    "                    if (abs(dtheta) < 0.25*np.pi) | (abs(dtheta) > 1.75*np.pi):\n",
    "                        v_out.append(v['v'])\n",
    "                    if (abs(dtheta) > np.pi*0.75) & (abs(dtheta) < np.pi*1.25):\n",
    "                        v_in.append(v['v'])\n",
    "                \n",
    "                if len(v_out) > 0:\n",
    "                    edges.at[eidx, \"ncar_out\"] = len(v_out)\n",
    "                    v_avg_out, v_std_out = np.mean(v_out), np.std(v_out)\n",
    "                    edges.at[eidx, \"v_avg_out\"] = v_avg_out\n",
    "                    edges.at[eidx, \"v_std_out\"] = v_std_out\n",
    "                if len(v_in) > 0:\n",
    "                    edges.at[eidx, \"ncar_in\"] = len(v_in)\n",
    "                    v_avg_in, v_std_in = np.mean(v_in), np.std(v_in)\n",
    "                    edges.at[eidx, \"v_avg_in\"] = v_avg_in\n",
    "                    edges.at[eidx, \"v_std_in\"] = v_std_in\n",
    "                    \n",
    "        # Add to arrays\n",
    "        isnap = (day*info[\"nTG\"]) + tg\n",
    "        node_feat_arr[isnap] = nodes[[\"ncar\",\"v_avg\",\"v_std\"]].to_numpy()\n",
    "        edge_feat_arr[isnap] = edges[[\"ncar_out\",\"v_avg_out\",\"v_std_out\",\n",
    "                                      \"ncar_in\",\"v_avg_in\",\"v_std_in\"]].to_numpy()\n",
    "        glbl_arr[isnap] = np.array([day,tg])\n",
    "        \n",
    "    print(\"Done writing day\",day)\n",
    "\n",
    "print(\"Saving\",node_fname)\n",
    "np.save(node_fname, node_feat_arr)\n",
    "print(\"Saving\",edge_fname)\n",
    "np.save(edge_fname, edge_feat_arr)\n",
    "print(\"Saving\",send_fname)\n",
    "np.save(send_fname, send_arr)\n",
    "print(\"Saving\",receive_fname)\n",
    "np.save(receive_fname, rece_arr)\n",
    "\n",
    "# Clear memory\n",
    "del node_feat_arr, edge_feat_arr, send_arr, rece_arr\n",
    "\n",
    "# To reload use\n",
    "# array = np.load(fname+\".npy\", mmap_mode='r')"
   ]
  }
 ],
 "metadata": {
  "kernelspec": {
   "display_name": "Python 3",
   "language": "python",
   "name": "python3"
  },
  "language_info": {
   "codemirror_mode": {
    "name": "ipython",
    "version": 3
   },
   "file_extension": ".py",
   "mimetype": "text/x-python",
   "name": "python",
   "nbconvert_exporter": "python",
   "pygments_lexer": "ipython3",
   "version": "3.5.2"
  }
 },
 "nbformat": 4,
 "nbformat_minor": 2
}

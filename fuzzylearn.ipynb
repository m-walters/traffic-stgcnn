{
 "cells": [
  {
   "cell_type": "code",
   "execution_count": 1,
   "metadata": {
    "collapsed": true
   },
   "outputs": [],
   "source": [
    "# from __future__ import division, print_function\n",
    "import numpy as np\n",
    "import matplotlib.pyplot as plt\n",
    "%matplotlib inline\n",
    "import skfuzzy as fuzz\n",
    "from scipy.sparse.linalg import svds"
   ]
  },
  {
   "cell_type": "code",
   "execution_count": 130,
   "metadata": {},
   "outputs": [
    {
     "name": "stdout",
     "output_type": "stream",
     "text": [
      "Done\n"
     ]
    }
   ],
   "source": [
    "#\n",
    "# Collect data\n",
    "#\n",
    "vmin = 1\n",
    "nmin = 5\n",
    "name = \"vmin\"+str(vmin)+\"_nmin\"+str(nmin)\n",
    "run = \"secondring\"\n",
    "tggroup = \"tg_15\"\n",
    "tglen = 15\n",
    "nTG = 24*60//tglen\n",
    "\n",
    "vdistpath = \"/home/michael/msc/summer17/traffic/data/\"+tggroup+\"/veldists/\"+run+\"/\"+name+\"/\"\n",
    "statepath = \"/home/michael/msc/summer17/traffic/data/\"+tggroup+\"/states/\"+run+\"/\"+name+\"/\"\n",
    "\n",
    "finfo = open(vdistpath+\"info\",'r')\n",
    "edges = []\n",
    "Ndists = 0\n",
    "nx,ny,nth = 0,0,0\n",
    "dxcell,dycell = 0.,0.\n",
    "for l in finfo.readlines():\n",
    "    spt = l.split(\" \")\n",
    "    if spt[0]==\"edges:\":\n",
    "        edges = [float(e) for e in spt[1:-1]]\n",
    "    if spt[0]==\"Ndists\":\n",
    "        Ndists = int(spt[1])\n",
    "    if spt[0]==\"Nx\":\n",
    "        nx = int(spt[1])\n",
    "    if spt[0]==\"Ny\":\n",
    "        ny = int(spt[1])\n",
    "    if spt[0]==\"nSlice\":\n",
    "        nth = int(spt[1])\n",
    "    if spt[0]==\"dxCell\":\n",
    "        dxcell = float(spt[1])\n",
    "    if spt[0]==\"dyCell\":\n",
    "        dycell = float(spt[1])\n",
    "\n",
    "finfo.close()\n",
    "ndim = len(edges)-1 # the last edge is not its own bin\n",
    "widths = [r-l for r,l in zip(edges[1:],edges[:-1])]\n",
    "data = np.zeros(shape=(Ndists,ndim))\n",
    "gridmap = {}\n",
    "\n",
    "ncenters = 3 # Doesn't seem to manage >3 very well. Running with\n",
    "# 4 centers, I found 2 of them overlapped to 1e-5 difference (rdim =10)\n",
    "\n",
    "reduced_dim = 10\n",
    "distdata = np.zeros(shape=(nx,ny,nth,7,nTG,ndim))\n",
    "statedata = np.zeros(shape=(nx,ny,nth,7,nTG,ncenters))\n",
    "\n",
    "i = 0\n",
    "for d in range(7):\n",
    "    for tg in range(nTG):\n",
    "        fin = open(vdistpath+\"/d\"+str(d)+\"tg\"+str(tg),'r')\n",
    "        for l in fin.readlines():\n",
    "            spt = l.split(\" \")\n",
    "            x,y,th = int(spt[0]),int(spt[1]),int(spt[2])\n",
    "            dist = np.asarray([int(dat) for dat in spt[4:-1]])\n",
    "            data[i] = dist\n",
    "            distdata[x][y][th][d][tg] = dist\n",
    "            gridmap.update({i:[x,y,d,tg,th]})\n",
    "            i+=1\n",
    "\n",
    "print \"Done\""
   ]
  },
  {
   "cell_type": "code",
   "execution_count": 133,
   "metadata": {},
   "outputs": [
    {
     "name": "stdout",
     "output_type": "stream",
     "text": [
      "3 10 169 0.4078893193\n"
     ]
    }
   ],
   "source": [
    "#\n",
    "# Run fuzzy clustering method\n",
    "#\n",
    "\n",
    "# Hopefully two centers representing jam and good flow\n",
    "# centers = [np.asarray([21, 2, 3, 0, 1, 0, 0, 0, 0, 0, 0, 0, 0, 0, 0]),\n",
    "#            np.asarray([9, 6, 1, 1, 2, 1, 0, 1, 1, 2, 1, 0, 0, 0, 0])]\n",
    "\n",
    "fpcs = []\n",
    "\n",
    "U,S,V = svds(data,k=reduced_dim)\n",
    "data_svd = U.dot(np.diag(S))  # output of TruncatedSVD\n",
    "raw_approx = data_svd.dot(V)\n",
    "\n",
    "cntr, u, u0, d, jm, p, fpc = fuzz.cluster.cmeans(\n",
    "    data.T, ncenters, 2, error=0.000001, maxiter=200, init=None)\n",
    "\n",
    "# Store fpc values for later\n",
    "fpcs.append(fpc)\n",
    "    \n",
    "states = u.T.copy()\n",
    "for i in range(Ndists):\n",
    "    x,y,d,tg,th = gridmap[i]\n",
    "    statedata[x][y][th][d][tg] = states[i]\n",
    "\n",
    "print ncenters, reduced_dim, p, fpc"
   ]
  },
  {
   "cell_type": "code",
   "execution_count": 114,
   "metadata": {
    "scrolled": true
   },
   "outputs": [
    {
     "name": "stdout",
     "output_type": "stream",
     "text": [
      "(238409, 10) (10,) (10, 15) (238409, 15) (3, 238409) (3, 10)\n"
     ]
    }
   ],
   "source": [
    "print U.shape, S.shape, V.shape, data.shape, u.shape, cntr.shape"
   ]
  },
  {
   "cell_type": "code",
   "execution_count": 115,
   "metadata": {
    "collapsed": true
   },
   "outputs": [],
   "source": [
    "# Represents the centers in the original 15 bin dist\n",
    "cntr2raw = cntr.dot(V)"
   ]
  },
  {
   "cell_type": "code",
   "execution_count": 145,
   "metadata": {},
   "outputs": [
    {
     "data": {
      "text/plain": [
       "238409"
      ]
     },
     "execution_count": 145,
     "metadata": {},
     "output_type": "execute_result"
    }
   ],
   "source": [
    "len(max_args)"
   ]
  },
  {
   "cell_type": "code",
   "execution_count": 150,
   "metadata": {},
   "outputs": [
    {
     "data": {
      "text/plain": [
       "<matplotlib.legend.Legend at 0x7f102b999f50>"
      ]
     },
     "execution_count": 150,
     "metadata": {},
     "output_type": "execute_result"
    },
    {
     "data": {
      "image/png": "[encoded data removed]",
      "text/plain": [
       "<matplotlib.figure.Figure at 0x7f102b999ed0>"
      ]
     },
     "metadata": {},
     "output_type": "display_data"
    }
   ],
   "source": [
    "s = max_args[10000]\n",
    "plt.plot(data[s],\"o-r\",raw_approx[s],\"o-b\")\n",
    "plt.legend([\"raw\",\"approx\"])"
   ]
  },
  {
   "cell_type": "code",
   "execution_count": 135,
   "metadata": {},
   "outputs": [
    {
     "name": "stdout",
     "output_type": "stream",
     "text": [
      "[200000 205291 207467 198013 204763 200637 206245 137309 160721 203116]\n",
      "[ 81.  78.  75.  75.  73.  72.  71.  68.  67.  65.]\n"
     ]
    }
   ],
   "source": [
    "dist_sums = np.sum(data,axis=1)\n",
    "max_args = np.flipud(np.argsort(dist_sums))\n",
    "print max_args[0:10]\n",
    "print dist_sums[max_args[0:10]]"
   ]
  },
  {
   "cell_type": "code",
   "execution_count": 134,
   "metadata": {},
   "outputs": [
    {
     "data": {
      "text/plain": [
       "[<matplotlib.lines.Line2D at 0x7f102ce68f90>]"
      ]
     },
     "execution_count": 134,
     "metadata": {},
     "output_type": "execute_result"
    },
    {
     "data": {
      "image/png": "[encoded data removed]",
      "text/plain": [
       "<matplotlib.figure.Figure at 0x7f102c66b7d0>"
      ]
     },
     "metadata": {},
     "output_type": "display_data"
    }
   ],
   "source": [
    "plt.plot(cntr[0],'b')\n",
    "plt.plot(cntr[1],'r')\n",
    "plt.plot(cntr[2],'g')\n",
    "# plt.plot(cntr[3],'k')"
   ]
  },
  {
   "cell_type": "code",
   "execution_count": 116,
   "metadata": {},
   "outputs": [
    {
     "data": {
      "text/plain": [
       "[<matplotlib.lines.Line2D at 0x7f102cc60c90>]"
      ]
     },
     "execution_count": 116,
     "metadata": {},
     "output_type": "execute_result"
    },
    {
     "data": {
      "image/png": "[encoded data removed]",
      "text/plain": [
       "<matplotlib.figure.Figure at 0x7f102ccc2610>"
      ]
     },
     "metadata": {},
     "output_type": "display_data"
    }
   ],
   "source": [
    "plt.plot(cntr2raw[0],'b')\n",
    "plt.plot(cntr2raw[1],'r')\n",
    "plt.plot(cntr2raw[2],'g')\n",
    "# plt.plot(cntr[3],'k')"
   ]
  },
  {
   "cell_type": "code",
   "execution_count": 32,
   "metadata": {},
   "outputs": [
    {
     "data": {
      "text/plain": [
       "'/home/michael/msc/summer17/traffic/data/tg_15/states/secondring/vmin1_nmin0/'"
      ]
     },
     "execution_count": 32,
     "metadata": {},
     "output_type": "execute_result"
    }
   ],
   "source": [
    "statepath"
   ]
  },
  {
   "cell_type": "code",
   "execution_count": 34,
   "metadata": {
    "collapsed": true
   },
   "outputs": [],
   "source": [
    "finfo.close()"
   ]
  },
  {
   "cell_type": "code",
   "execution_count": 35,
   "metadata": {},
   "outputs": [
    {
     "name": "stdout",
     "output_type": "stream",
     "text": [
      "Done\n"
     ]
    }
   ],
   "source": [
    "# Write states to disk\n",
    "#\n",
    "# Now the states are not the distributions\n",
    "# but their c values\n",
    "states = u.T.copy()\n",
    "\n",
    "finfo = open(statepath+\"/info\",'w')\n",
    "finfo.write(\"nx %d\\nny %d\\nntg %d\\nnslice %d\\nnstate %d\\ntglen %d\\n\"%(nx,ny,nTG,nth,ncenters,tglen))\n",
    "\n",
    "# Erase files\n",
    "for d in range(7):\n",
    "    for tg in range(nTG):\n",
    "        fout = open(statepath+\"/d\"+str(d)+\"tg\"+str(tg),'w')\n",
    "        \n",
    "        for x in range(nx):\n",
    "            for y in range(ny):\n",
    "                for th in range(nth):\n",
    "                    sstr = \"\"\n",
    "                    for s in statedata[x][y][th][d][tg]:\n",
    "                        sstr += str(s)+\" \"\n",
    "                    fout.write(\"%d %d %d \"%(x,y,th)+sstr+\"\\n\")\n",
    "        fout.close()    \n",
    "print \"Done\""
   ]
  },
  {
   "cell_type": "code",
   "execution_count": null,
   "metadata": {
    "collapsed": true,
    "scrolled": false
   },
   "outputs": [],
   "source": [
    "plt.figure(figsize=(8,5))\n",
    "bins = [e+0.5*w for e,w in zip(edges[:-1],widths)]\n",
    "plt.bar(bins,cntr[0],widths,color='g',alpha=0.4)\n",
    "plt.bar(bins,cntr[1],widths,color='b',alpha=0.4)"
   ]
  },
  {
   "cell_type": "code",
   "execution_count": 12,
   "metadata": {
    "collapsed": true
   },
   "outputs": [],
   "source": [
    "# Let's see how it groups data based on times we can assume are jam times\n",
    "jamset = []\n",
    "flowset = []\n",
    "jamtimes = [14,15,16,17,18,19,32,33,34,35,36,37]\n",
    "for d in range(7):\n",
    "    for tg in range(nTG):\n",
    "        fin = open(vdistpath+\"/d\"+str(d)+\"tg\"+str(tg),'r')\n",
    "        velset = []\n",
    "        for l in fin.readlines():\n",
    "            spt = l.split(\" \")\n",
    "            dist = np.asarray([float(dat) for dat in spt[4:-1]])\n",
    "            if (tg in jamtimes) and (d in [0,1,2,3,4]):\n",
    "                jamset.append(dist)\n",
    "            else:\n",
    "                flowset.append(dist)\n",
    "        fin.close()        "
   ]
  },
  {
   "cell_type": "code",
   "execution_count": 28,
   "metadata": {},
   "outputs": [
    {
     "data": {
      "text/plain": [
       "(2, 709632)"
      ]
     },
     "execution_count": 28,
     "metadata": {},
     "output_type": "execute_result"
    }
   ],
   "source": [
    "u.shape"
   ]
  },
  {
   "cell_type": "code",
   "execution_count": 13,
   "metadata": {},
   "outputs": [
    {
     "data": {
      "text/plain": [
       "63360"
      ]
     },
     "execution_count": 13,
     "metadata": {},
     "output_type": "execute_result"
    }
   ],
   "source": [
    "len(jamset)"
   ]
  },
  {
   "cell_type": "code",
   "execution_count": 14,
   "metadata": {
    "collapsed": true
   },
   "outputs": [],
   "source": [
    "ndjamset = np.asarray(jamset).T\n",
    "ndflowset = np.asarray(flowset).T\n",
    "\n",
    "U,S,V = svds(data,k=reduced_dim)\n",
    "data_svd = U.dot(np.diag(S))  # output of TruncatedSVD\n",
    "\n",
    "cntr, u, u0, d, jm, p, fpc = fuzz.cluster.cmeans(\n",
    "    data_svd.T, ncenters, 2, error=0.000001, maxiter=1000, init=None)\n",
    "\n",
    "\n",
    "\n",
    "\n",
    "U_,S_,V_ = svds(ndjamset.T,k=reduced_dim)\n",
    "ndjamset_svd = U_.dot(np.diag(S))\n",
    "jamset_u = np.empty(shape=(len(jamset),ncenters))\n",
    "\n",
    "u_, u0_, d_, jm_, p_, fpc_ = fuzz.cmeans_predict(\n",
    "    ndjamset_svd.T, cntr, 2, error=0.00005, maxiter=1000)\n",
    "\n",
    "for i in range(len(jamset_u)):\n",
    "    jamset_u[i] = u_.T[i]\n",
    "    \n",
    "\n",
    "# cluster_membership = np.argmax(u, axis=0)  # Hardening for visualization\n"
   ]
  },
  {
   "cell_type": "code",
   "execution_count": 27,
   "metadata": {},
   "outputs": [
    {
     "ename": "NameError",
     "evalue": "name 'jamset' is not defined",
     "output_type": "error",
     "traceback": [
      "\u001b[0;31m---------------------------------------------------------------------------\u001b[0m",
      "\u001b[0;31mNameError\u001b[0m                                 Traceback (most recent call last)",
      "\u001b[0;32m<ipython-input-27-8e15a43532a6>\u001b[0m in \u001b[0;36m<module>\u001b[0;34m()\u001b[0m\n\u001b[1;32m      7\u001b[0m \u001b[0mf\u001b[0m\u001b[0;34m,\u001b[0m\u001b[0max\u001b[0m \u001b[0;34m=\u001b[0m \u001b[0mplt\u001b[0m\u001b[0;34m.\u001b[0m\u001b[0msubplots\u001b[0m\u001b[0;34m(\u001b[0m\u001b[0;36m5\u001b[0m\u001b[0;34m,\u001b[0m\u001b[0;36m4\u001b[0m\u001b[0;34m,\u001b[0m\u001b[0mfigsize\u001b[0m\u001b[0;34m=\u001b[0m\u001b[0;34m(\u001b[0m\u001b[0;36m16\u001b[0m\u001b[0;34m,\u001b[0m\u001b[0;36m12\u001b[0m\u001b[0;34m)\u001b[0m\u001b[0;34m)\u001b[0m\u001b[0;34m\u001b[0m\u001b[0m\n\u001b[1;32m      8\u001b[0m \u001b[0mstart\u001b[0m\u001b[0;34m,\u001b[0m \u001b[0mend\u001b[0m \u001b[0;34m=\u001b[0m \u001b[0;36m20\u001b[0m\u001b[0;34m,\u001b[0m\u001b[0;36m30\u001b[0m\u001b[0;34m\u001b[0m\u001b[0m\n\u001b[0;32m----> 9\u001b[0;31m \u001b[0mj\u001b[0m \u001b[0;34m=\u001b[0m \u001b[0mjamset\u001b[0m\u001b[0;34m[\u001b[0m\u001b[0mstart\u001b[0m\u001b[0;34m:\u001b[0m\u001b[0mend\u001b[0m\u001b[0;34m]\u001b[0m\u001b[0;34m\u001b[0m\u001b[0m\n\u001b[0m\u001b[1;32m     10\u001b[0m \u001b[0mj_svd\u001b[0m \u001b[0;34m=\u001b[0m \u001b[0mndjamset_svd\u001b[0m\u001b[0;34m[\u001b[0m\u001b[0mstart\u001b[0m\u001b[0;34m:\u001b[0m\u001b[0mend\u001b[0m\u001b[0;34m]\u001b[0m\u001b[0;34m\u001b[0m\u001b[0m\n\u001b[1;32m     11\u001b[0m \u001b[0mj_u\u001b[0m \u001b[0;34m=\u001b[0m \u001b[0mjamset_u\u001b[0m\u001b[0;34m[\u001b[0m\u001b[0mstart\u001b[0m\u001b[0;34m:\u001b[0m\u001b[0mend\u001b[0m\u001b[0;34m]\u001b[0m\u001b[0;34m\u001b[0m\u001b[0m\n",
      "\u001b[0;31mNameError\u001b[0m: name 'jamset' is not defined"
     ]
    },
    {
     "data": {
      "image/png": "[encoded data removed]",
      "text/plain": [
       "<matplotlib.figure.Figure at 0x7fe490b0ce50>"
      ]
     },
     "metadata": {},
     "output_type": "display_data"
    },
    {
     "data": {
      "image/png": "[encoded data removed]",
      "text/plain": [
       "<matplotlib.figure.Figure at 0x7fe490a7cb90>"
      ]
     },
     "metadata": {},
     "output_type": "display_data"
    }
   ],
   "source": [
    "# Hand pick some distributions\n",
    "plt.plot(cntr[0],color=(1,0,0),linewidth=3.0)\n",
    "plt.plot(cntr[1],color=(0,0,1),linewidth=3.0)\n",
    "ymin,ymax = -20,5\n",
    "plt.ylim(ymin,ymax)\n",
    "\n",
    "f,ax = plt.subplots(5,4,figsize=(16,12))\n",
    "start, end = 20,30\n",
    "j = jamset[start:end]\n",
    "j_svd = ndjamset_svd[start:end]\n",
    "j_u = jamset_u[start:end]\n",
    "colors = [(u[0],0,u[1]) for u in j_u]\n",
    "\n",
    "\n",
    "\n",
    "ax[0,0].bar(bins,j[0],widths,color=colors[0])\n",
    "ax[1,0].bar(bins,j[1],widths,color=colors[1])\n",
    "ax[2,0].bar(bins,j[2],widths,color=colors[2])\n",
    "ax[3,0].bar(bins,j[3],widths,color=colors[3])\n",
    "ax[4,0].bar(bins,j[4],widths,color=colors[4])\n",
    "ax[0,1].bar(bins,j[5],widths,color=colors[5])\n",
    "ax[1,1].bar(bins,j[6],widths,color=colors[6])\n",
    "ax[2,1].bar(bins,j[7],widths,color=colors[7])\n",
    "ax[3,1].bar(bins,j[8],widths,color=colors[8])\n",
    "ax[4,1].bar(bins,j[9],widths,color=colors[9])\n",
    "\n",
    "ax[0,2].plot(j_svd[0],color=colors[0])\n",
    "ax[1,2].plot(j_svd[1],color=colors[1])\n",
    "ax[2,2].plot(j_svd[2],color=colors[2])\n",
    "ax[3,2].plot(j_svd[3],color=colors[3])\n",
    "ax[4,2].plot(j_svd[4],color=colors[4])\n",
    "ax[0,3].plot(j_svd[5],color=colors[5])\n",
    "ax[1,3].plot(j_svd[6],color=colors[6])\n",
    "ax[2,3].plot(j_svd[7],color=colors[7])\n",
    "ax[3,3].plot(j_svd[8],color=colors[8])\n",
    "ax[4,3].plot(j_svd[9],color=colors[9])\n",
    "\n",
    "for m in range(5):\n",
    "    for mm in [2,3]:\n",
    "        ax[m,mm].set_ylim(ymin,ymax)\n",
    "    for mm in [0,1]:\n",
    "        ax[m,mm].set_ylim(0,12)\n",
    "       \n",
    "    "
   ]
  },
  {
   "cell_type": "code",
   "execution_count": null,
   "metadata": {
    "collapsed": true
   },
   "outputs": [],
   "source": [
    "plt.figure(figsize=(10,6))\n",
    "plt.plot((d[0][0:50]+d[1][0:50])/25.,'b')\n",
    "plt.plot(u[0][0:50],'r')"
   ]
  },
  {
   "cell_type": "code",
   "execution_count": null,
   "metadata": {
    "collapsed": true
   },
   "outputs": [],
   "source": [
    "plt.plot(u[0][0:50])\n",
    "# plt.plot(d[0][0:40],'r')"
   ]
  },
  {
   "cell_type": "code",
   "execution_count": 20,
   "metadata": {},
   "outputs": [
    {
     "data": {
      "text/plain": [
       "(354816, 2)"
      ]
     },
     "execution_count": 20,
     "metadata": {},
     "output_type": "execute_result"
    }
   ],
   "source": [
    "u.T.shape"
   ]
  },
  {
   "cell_type": "code",
   "execution_count": 23,
   "metadata": {},
   "outputs": [
    {
     "data": {
      "text/plain": [
       "'/home/michael/msc/summer17/traffic/data/states/secondring/vmin1_nmin5/'"
      ]
     },
     "execution_count": 23,
     "metadata": {},
     "output_type": "execute_result"
    }
   ],
   "source": [
    "statepath"
   ]
  }
 ],
 "metadata": {
  "kernelspec": {
   "display_name": "Python 2",
   "language": "python",
   "name": "python2"
  },
  "language_info": {
   "codemirror_mode": {
    "name": "ipython",
    "version": 2
   },
   "file_extension": ".py",
   "mimetype": "text/x-python",
   "name": "python",
   "nbconvert_exporter": "python",
   "pygments_lexer": "ipython2",
   "version": "2.7.13"
  }
 },
 "nbformat": 4,
 "nbformat_minor": 2
}
